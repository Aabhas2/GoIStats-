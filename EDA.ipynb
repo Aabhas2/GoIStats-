{
 "cells": [
  {
   "cell_type": "markdown",
   "id": "4bc9ccb6-118f-4410-890f-7ea34b77733e",
   "metadata": {},
   "source": [
    "# EDA \n",
    "## 1. Periodic Labor Force Survey "
   ]
  },
  {
   "cell_type": "code",
   "execution_count": null,
   "id": "dd6b9979-1f9b-415e-a2f8-4f6db08baed1",
   "metadata": {},
   "outputs": [],
   "source": [
    "import pandas as pd \n",
    "import numpy as np \n",
    "import matplotlib.pyplot as plt \n",
    "import seaborn as sns"
   ]
  },
  {
   "cell_type": "code",
   "execution_count": null,
   "id": "d42c2a72-c531-4357-aae3-80a637becc3b",
   "metadata": {},
   "outputs": [],
   "source": [
    "emp_industry = pd.read_csv('Cleaned Data/PLFS/PLFS_emp_industry.csv',header=[0,1])"
   ]
  },
  {
   "cell_type": "code",
   "execution_count": null,
   "id": "3b56d7a9-9e39-4605-b134-69c9e65875c6",
   "metadata": {},
   "outputs": [],
   "source": [
    "emp_industry"
   ]
  },
  {
   "cell_type": "markdown",
   "id": "057af9fd-e642-4b6d-aca7-477c59514878",
   "metadata": {},
   "source": [
    "### This dataset requires a column name and feature engineering "
   ]
  },
  {
   "cell_type": "code",
   "execution_count": null,
   "id": "f1fa2a24-23f0-4566-8b11-b11d7310d5ac",
   "metadata": {},
   "outputs": [],
   "source": [
    "col = pd.MultiIndex.from_tuples([\n",
    "    ('Industry as per NIC-2008',''),\n",
    "    ('Self-Employed','own account worker, employer'),('Self-Employed','helper in household enterprise'),('Self-Employed','all self employed'),\n",
    "    ('regular wage/salary',''),('casual labour',''),('all','')\n",
    "])\n",
    "emp_industry.columns = col"
   ]
  },
  {
   "cell_type": "code",
   "execution_count": null,
   "id": "984f455b-44a3-4630-b293-039a187dd2ce",
   "metadata": {},
   "outputs": [],
   "source": [
    "emp_industry"
   ]
  },
  {
   "cell_type": "code",
   "execution_count": null,
   "id": "2a9f6598-3f10-44c7-9c1a-651865defa2b",
   "metadata": {},
   "outputs": [],
   "source": [
    "emp_industry.iloc[0:13]"
   ]
  },
  {
   "cell_type": "code",
   "execution_count": null,
   "id": "94a03471-655e-4219-bcab-a97f5e4b82c1",
   "metadata": {},
   "outputs": [],
   "source": [
    "categories = ['Male', 'Female', 'Persons'] * 9\n",
    "\n",
    "rows_per_set = 13\n",
    "\n",
    "category_col = [categories[i // rows_per_set] for i in range(len(emp_industry))]\n",
    "emp_industry['Category'] = category_col\n",
    "emp_industry"
   ]
  },
  {
   "cell_type": "code",
   "execution_count": null,
   "id": "606c6e0a-0729-4e17-9e83-fe8e8a28a25e",
   "metadata": {},
   "outputs": [],
   "source": [
    "emp_industry.iloc[0:13]"
   ]
  },
  {
   "cell_type": "code",
   "execution_count": null,
   "id": "a6988512-8441-4f66-aea9-4da8d4a5b4c6",
   "metadata": {},
   "outputs": [],
   "source": [
    "emp_industry.info()"
   ]
  },
  {
   "cell_type": "code",
   "execution_count": null,
   "id": "420218fd-3465-46ca-bc49-064907d9de20",
   "metadata": {},
   "outputs": [],
   "source": [
    "emp_industry['Self-Employed','own account worker, employer'].iloc[0:11].mean()"
   ]
  },
  {
   "cell_type": "markdown",
   "id": "611eeb3c-a5a6-4b8f-a1e9-9623311ab90c",
   "metadata": {},
   "source": [
    "## Column Types:\n",
    "\n",
    "* `Numerical`: own account worker, employer; helper in household enterprise\tall self ; all self employed; regular wage/salary; casual labour;  all\n",
    "* `Categorical`: Category\n",
    "* `Mixed`: Industry as per NIC-2008\n"
   ]
  },
  {
   "cell_type": "markdown",
   "id": "57576508-0cbe-4e35-ac86-c466caeb7fa0",
   "metadata": {},
   "source": [
    "### Removing the sample worker row in the table because it represents the survey sample size, not actual employment data."
   ]
  },
  {
   "cell_type": "code",
   "execution_count": null,
   "id": "7ed8dac5-95a1-4d4c-8ea9-11e46a0e3d94",
   "metadata": {},
   "outputs": [],
   "source": [
    "emp_industry = emp_industry[~emp_industry['Industry as per NIC-2008'].str.contains('sample workers',case=False, na=False)]"
   ]
  },
  {
   "cell_type": "code",
   "execution_count": null,
   "id": "0a85573a-65d3-4978-a2d9-d11fd237f12c",
   "metadata": {},
   "outputs": [],
   "source": [
    "emp_industry[~emp_industry['Industry as per NIC-2008'].str.contains('total',case=False, na=False)].describe()"
   ]
  },
  {
   "cell_type": "markdown",
   "id": "bf552109-95d5-44ee-a54f-f54b8d553589",
   "metadata": {},
   "source": [
    "## Univariate Analysis on Numerical Columns \n",
    "\n",
    "### 1. own account worker, employer:\n",
    "\n",
    "   * Mean val: 30.5%\n",
    "   * STD: 18%\n",
    "   * 25%: 17%, 50%: 27%, 75%: 46%, max: 70% (there might be a outlier)"
   ]
  },
  {
   "cell_type": "code",
   "execution_count": null,
   "id": "690c0ca0-c074-47a0-b849-4fc0bb9a67e7",
   "metadata": {},
   "outputs": [],
   "source": [
    "emp = emp_industry[~emp_industry['Industry as per NIC-2008'].str.contains('total',case=False, na=False)]\n",
    "# filtering out the dataset without total rows for univariate analysis "
   ]
  },
  {
   "cell_type": "code",
   "execution_count": null,
   "id": "86c8d3de-4742-4f29-ba38-40e811ca16aa",
   "metadata": {},
   "outputs": [],
   "source": [
    "emp['Self-Employed']['own account worker, employer'].skew()"
   ]
  },
  {
   "cell_type": "code",
   "execution_count": null,
   "id": "334c7f93-46b0-4da3-8e49-ce11c7f75be3",
   "metadata": {
    "scrolled": true
   },
   "outputs": [],
   "source": [
    "sns.set_style('darkgrid')\n",
    "\n",
    "plt.figure(figsize=(10,5))\n",
    "sns.histplot(emp['Self-Employed']['own account worker, employer'], kde=True, bins=15)\n",
    "plt.title(\"Distribution of Own account workers & employers\")\n",
    "plt.xlabel('Percentage of Workforce')\n",
    "plt.ylabel('Frequency')\n",
    "plt.show()\n",
    "\n",
    "#Boxplot\n",
    "plt.figure(figsize=(10,5))\n",
    "sns.boxplot(x=emp['Self-Employed']['own account worker, employer'])\n",
    "plt.title('Boxplot of Own Account Worker, Employer')\n",
    "plt.show()"
   ]
  },
  {
   "cell_type": "markdown",
   "id": "48cc922a-f5f2-42e8-a01b-24b753f55a62",
   "metadata": {},
   "source": [
    "### Conclusion:\n",
    "\n",
    "* Shape of the histogram is almost a bimodial distribution with peaks around 10-30% and 40-50%\n",
    "* This shows that industries have very few or moderate amount of own acount workers, with fewer industries having extreme values(70%)\n",
    "* Boxplot tells us that there are no outliers in this distribution which indicates that there are no extreme deviations.\n",
    "* The spread is natural and there are no usual spikes."
   ]
  },
  {
   "cell_type": "code",
   "execution_count": null,
   "id": "0ca85da1-e2a4-4a23-b651-7861800bcc90",
   "metadata": {},
   "outputs": [],
   "source": [
    "emp_industry[~emp_industry['Industry as per NIC-2008'].str.contains('total',case=False, na=False)].describe()"
   ]
  },
  {
   "cell_type": "markdown",
   "id": "27fa07d8-4b8f-44b9-aa80-efc4ac66ad2f",
   "metadata": {},
   "source": [
    "### 2. Helper in Household Enterprise"
   ]
  },
  {
   "cell_type": "code",
   "execution_count": null,
   "id": "c66fb33b-04f7-4721-b9da-72741fd815ac",
   "metadata": {},
   "outputs": [],
   "source": [
    "emp_industry[~emp_industry['Industry as per NIC-2008'].str.contains('total',case=False, na=False)].corr(numeric_only=True)"
   ]
  },
  {
   "cell_type": "code",
   "execution_count": null,
   "id": "1441d50a-73ea-47d0-ad79-b7883c69c043",
   "metadata": {},
   "outputs": [],
   "source": [
    "plt.figure(figsize=(10,5))\n",
    "sns.histplot(emp['Self-Employed']['helper in household enterprise'],kde=True,bins=15)\n",
    "plt.title('Distribution of Helpers in Household Enterprises')\n",
    "plt.xlabel('Percentage of Workforce')\n",
    "plt.ylabel('Frequency')\n",
    "plt.show()\n",
    "\n",
    "plt.figure(figsize=(10,5))\n",
    "sns.boxplot(x=emp['Self-Employed']['helper in household enterprise'])\n",
    "plt.title('Boxplot of Helpers in Household Enterprises')\n",
    "plt.show()"
   ]
  },
  {
   "cell_type": "markdown",
   "id": "3df684a0-d0f2-46b9-af66-ed160dc52a06",
   "metadata": {},
   "source": [
    "### Conclusion:\n",
    "\n",
    "* Histogram & KDE:\n",
    "  * The distribution is right-skewed(positively), showing that most industries have low values of \"Helpers in Household Enterprise\"\n",
    "  * The highest frequency is near 0% showing most industries employ very few people\n",
    "  * long tail extends towards 20-50%, meaning few industries have some values of Helpers in household enterprise\n",
    "* Boxplot:\n",
    "  * median is low\n",
    "  * There are several outliers beyond 30%\n",
    "  * IQR is narrow, means that most values are concentrated in the lower range\n",
    "* After doing groupby, we find that females have the highest mean out of the 3 category hence the outliers "
   ]
  },
  {
   "cell_type": "code",
   "execution_count": null,
   "id": "85208187-3038-45a7-a509-a03aa332cc4a",
   "metadata": {},
   "outputs": [],
   "source": [
    "h = [('Self-Employed','helper in household enterprise')]\n",
    "c = emp.groupby('Category')[h].describe()\n",
    "c[('Self-Employed','helper in household enterprise','mean')].plot(kind='bar', figsize=(10,5), title='Mean Percentage of Helpers by Category')\n",
    "plt.ylabel('Percentage of Workforce')\n",
    "plt.show()"
   ]
  },
  {
   "cell_type": "code",
   "execution_count": null,
   "id": "819f2aab-7972-4842-b1d3-b30069148b92",
   "metadata": {},
   "outputs": [],
   "source": [
    "d = emp.groupby('Industry as per NIC-2008')[h].describe()\n",
    "d"
   ]
  },
  {
   "cell_type": "code",
   "execution_count": null,
   "id": "c13d7c83-a4e4-492f-92e5-325f46190cfd",
   "metadata": {},
   "outputs": [],
   "source": [
    "emp.head(2)"
   ]
  },
  {
   "cell_type": "markdown",
   "id": "14676144-9316-4e24-8467-603b1f1be532",
   "metadata": {},
   "source": [
    "### 3. All Self Employed"
   ]
  },
  {
   "cell_type": "code",
   "execution_count": null,
   "id": "f4733eaa-8f96-4001-8d2f-d8c1146172e7",
   "metadata": {},
   "outputs": [],
   "source": [
    "plt.figure(figsize=(10,5))\n",
    "n = len(emp['Self-Employed']['all self employed'])\n",
    "bins = int(np.sqrt(n)) # Square root rule for finding binsize\n",
    "sns.histplot(emp['Self-Employed']['all self employed'], kde=True, bins=bins)\n",
    "plt.xlabel('Percentage of Workforce')\n",
    "plt.ylabel('Frequency')\n",
    "plt.title('Distribution of All-self employed workers')\n",
    "plt.show()\n",
    "\n",
    "plt.figure(figsize=(10,5))\n",
    "sns.boxplot(x=emp['Self-Employed']['all self employed'])\n",
    "plt.title('Boxplot of All Self-Employed Workers')\n",
    "plt.show()"
   ]
  },
  {
   "cell_type": "markdown",
   "id": "dd7bc903-8ac4-4233-bfd7-acb6b828fee8",
   "metadata": {},
   "source": [
    "### Conclusions \n",
    "\n",
    "* Distribution is bimodial (two peaks)\n",
    "* Frequency distribution is spread out\n",
    "* No outliers present\n",
    "* median line is below and near 40%\n",
    "* IQR is large , the middle 50% of data is quite spread out."
   ]
  },
  {
   "cell_type": "markdown",
   "id": "6792b492-dca7-411e-94d1-bfd8a52d1691",
   "metadata": {},
   "source": [
    "### 4. Regular wage/Salary"
   ]
  },
  {
   "cell_type": "code",
   "execution_count": null,
   "id": "a1245daa-a429-4824-a1fe-09009d43b6ec",
   "metadata": {},
   "outputs": [],
   "source": [
    "plt.figure(figsize=(10,5))\n",
    "n = len(emp['regular wage/salary'])\n",
    "bins = int(np.sqrt(n)) # Square root rule for finding binsize\n",
    "sns.histplot(emp['regular wage/salary'],kde=True, bins=4)\n",
    "plt.xlabel('Percentage of Regular wage/Salary Workers')\n",
    "plt.ylabel('Frequency')\n",
    "plt.title('Distribution of Regular wage/salary')\n",
    "plt.show()\n",
    "\n",
    "plt.figure(figsize=(8,4))\n",
    "sns.boxplot(x=emp['regular wage/salary'])\n",
    "plt.title('Boxplot of Regular wage/salary')\n",
    "plt.show()"
   ]
  },
  {
   "cell_type": "markdown",
   "id": "1e3b23b6-33c8-45fe-ad45-dcfbd61b3fc2",
   "metadata": {},
   "source": [
    "### Conclusions\n",
    "\n",
    "* Highest frequency is observed in the 30-40% range meaning most regions fall within this percentage\n",
    "* Right-skewed, suggests a slight decline as we move toward higher percentages, fewer regions have a very high percentage of regular wage/salary.\n",
    "* No outliers\n",
    "* median value below and near 40% and IQR covering the middle which is quite spread out "
   ]
  },
  {
   "cell_type": "markdown",
   "id": "63cd1af8-fe31-46a5-8f4a-04422c50dce6",
   "metadata": {},
   "source": [
    "### 5. Casual Labor"
   ]
  },
  {
   "cell_type": "code",
   "execution_count": null,
   "id": "73a0ba67-29d5-4480-94e2-6b1e81dcb7f8",
   "metadata": {},
   "outputs": [],
   "source": [
    "plt.figure(figsize=(10,5))\n",
    "sns.histplot(emp['casual labour'], kde=True, bins=4)\n",
    "plt.title('Distribution of Casual Labour')\n",
    "plt.xlabel('Percentage of Workforce')\n",
    "plt.ylabel('Frequency')\n",
    "plt.show()\n",
    "\n",
    "plt.figure(figsize=(8,4))\n",
    "sns.boxplot(x=emp['casual labour'])\n",
    "plt.title('Boxplot of casual labour')\n",
    "plt.show()\n"
   ]
  },
  {
   "cell_type": "code",
   "execution_count": null,
   "id": "faa2d674-3cb1-4ba4-b1bf-ab0ac4e78aee",
   "metadata": {},
   "outputs": [],
   "source": [
    "# h = [('Self-Employed','helper in household enterprise')]\n",
    "c = emp.groupby('Category')['casual labour'].describe()\n",
    "c['mean'].plot(kind='bar', figsize=(10,5), title='Mean Percentage of Casual Labors by Category')\n",
    "plt.ylabel('Percentage of Workforce')\n",
    "plt.show()"
   ]
  },
  {
   "cell_type": "markdown",
   "id": "3b329fa8-1aee-40b7-9a5b-969dcf5a50ab",
   "metadata": {},
   "source": [
    "### Conclusions \n",
    "\n",
    "* Histogram\n",
    "  * Right Skewed Distribution: shows that most regions have a low percentage of casual labor with highest frequency in 0-20% range.\n",
    "  * Long tail towards higher percentages: few regions where casual labor is significantly higher, above 50% but less frequent.\n",
    "* Boxplot\n",
    "  * Median close to the lower quartile\n",
    "  * Outliers present, data has multiple outliers above 50% some regions have unusually high percentage of casual labor.\n",
    "  * IQR is relatively small means that majority of the data falls within a narrow range (under 30%)\n",
    "  * Casual Labor is generally low in most industries but a few industries deviate significantly\n",
    "* Possible Analysis:\n",
    "  * Investigate the industries with high casual labor participation - are they rural,industrial or economically underdeveloped?\n",
    "  * Compare casual labor trends with regular wage/salary and self-employment for deeper insights."
   ]
  },
  {
   "cell_type": "markdown",
   "id": "da17e345-0f10-42b0-b683-5c041b867dae",
   "metadata": {},
   "source": [
    "## Univariate Analysis on Categorical Columns "
   ]
  },
  {
   "cell_type": "code",
   "execution_count": null,
   "id": "22e50edb-9ae4-4188-b9b0-b8b764519adf",
   "metadata": {},
   "outputs": [],
   "source": [
    "emp.head(2)"
   ]
  },
  {
   "cell_type": "code",
   "execution_count": null,
   "id": "9618f9a7-b900-4e57-b638-10cd6caac6bd",
   "metadata": {},
   "outputs": [],
   "source": [
    "emp['Industry as per NIC-2008'].value_counts()"
   ]
  },
  {
   "cell_type": "code",
   "execution_count": null,
   "id": "ccd8839e-681b-4b53-bb80-37cdd2b4adc5",
   "metadata": {},
   "outputs": [],
   "source": [
    "emp[emp['Industry as per NIC-2008'] == '55-56 (accommodation & food services))']"
   ]
  },
  {
   "cell_type": "code",
   "execution_count": null,
   "id": "af0ce82b-be02-4120-b9da-1a158d437bdb",
   "metadata": {},
   "outputs": [],
   "source": [
    "emp['Industry as per NIC-2008'] = emp['Industry as per NIC-2008'].replace('55-56 (accommodation & food services))','55-56 (accommodation & food services) ')"
   ]
  },
  {
   "cell_type": "code",
   "execution_count": null,
   "id": "20edccf4-b45b-4107-bec4-b1ec0f15e767",
   "metadata": {},
   "outputs": [],
   "source": [
    "emp['Industry as per NIC-2008'].value_counts()"
   ]
  },
  {
   "cell_type": "code",
   "execution_count": null,
   "id": "41e62f8d-88b2-4c53-8f22-fd2bfdfca9b7",
   "metadata": {},
   "outputs": [],
   "source": [
    "emp.loc[8,'Industry as per NIC-2008'] = '55-56 (accommodation & food services)'"
   ]
  },
  {
   "cell_type": "code",
   "execution_count": null,
   "id": "225c8ae0-3842-40a8-ac82-df99bb746778",
   "metadata": {},
   "outputs": [],
   "source": [
    "emp['Industry as per NIC-2008'].value_counts().plot(kind='pie',autopct='%0.1f%%')"
   ]
  },
  {
   "cell_type": "code",
   "execution_count": null,
   "id": "baf8df36-d0ae-4b85-82a6-6f8af6c19542",
   "metadata": {},
   "outputs": [],
   "source": [
    "emp.groupby('Category')[[('Self-Employed','helper in household enterprise')]].max()"
   ]
  },
  {
   "cell_type": "code",
   "execution_count": null,
   "id": "848fff70-6301-4321-bb58-3ba1794349e7",
   "metadata": {},
   "outputs": [],
   "source": [
    "emp.head()"
   ]
  },
  {
   "cell_type": "markdown",
   "id": "5464caea-5fe6-4df5-b150-46a58721170e",
   "metadata": {},
   "source": [
    "## Workforce Distribution & Trends \n",
    "\n",
    "### 1. How are workers distributed across different employment types ?\n",
    "### 2. Which Industries have the highest and lowest percentage of regular wage/salary workers? "
   ]
  },
  {
   "cell_type": "code",
   "execution_count": null,
   "id": "7e6b19aa-2c5c-4a88-9cb1-24ef9f3a559e",
   "metadata": {},
   "outputs": [],
   "source": [
    "total = emp_industry[emp_industry['Industry as per NIC-2008'].str.contains('total',case=False, na=False)]\n",
    "total"
   ]
  },
  {
   "cell_type": "code",
   "execution_count": null,
   "id": "8b2ddff7-d074-4a7c-854d-51835f328b30",
   "metadata": {},
   "outputs": [],
   "source": [
    "import matplotlib.pyplot as plt "
   ]
  },
  {
   "cell_type": "code",
   "execution_count": null,
   "id": "36670569-f735-43c1-949c-aaf872815432",
   "metadata": {},
   "outputs": [],
   "source": [
    "employment_types = emp[[('Self-Employed','own account worker, employer'),('Self-Employed','helper in household enterprise'),('Self-Employed','all self employed'),('regular wage/salary',''),('casual labour','')]]\n",
    "\n",
    "employment_distribution = employment_types.mean()\n",
    "\n",
    "employment_distribution.index = ['Self-Employed (Employer/Own Account)', \n",
    "                                 'Self-Employed (Household Helper)', \n",
    "                                 'All Self-Employed', \n",
    "                                 'Regular Wage/Salary', \n",
    "                                 'Casual Labour']\n",
    "\n",
    "plt.figure(figsize=(8,5))\n",
    "sns.barplot(x=employment_distribution.index, y=employment_distribution.values,hue = employment_distribution.index, palette='viridis')\n",
    "plt.title('How are workers distributed across different employment types ?')\n",
    "# plt.ylable('Workforce')\n",
    "plt.xticks(rotation=30,ha='right') \n",
    "plt.show()"
   ]
  },
  {
   "cell_type": "markdown",
   "id": "886cca51-565e-4f27-a0b9-9ada8cb3e33b",
   "metadata": {},
   "source": [
    "### Key Insights:\n",
    "\n",
    "* Which employment type has the highest percentage?: Regular Wage/Salary Employment type\n",
    "* Which one is the least common?: Self-Employed(Household Helper)\n",
    "* How do the employment types compare in terms of gender?: There is a greater number of females in self-employed type  and for regular wage/salary majority is male and in casual labor too number of female worker is greater than male workers\n",
    "* Does any type have an outlier (very high or low percentage)?: Yes, Out of all the employment types, Helper in Household enterprise and casual labors have outliers. The reason we have outliers in Household enterprise is because majority of workers are female and similary majority workers are female in the casual labour type"
   ]
  },
  {
   "cell_type": "code",
   "execution_count": null,
   "id": "91d26673-233e-4c3d-96a3-553c84277f03",
   "metadata": {},
   "outputs": [],
   "source": [
    "emp_types = [('Self-Employed','own account worker, employer'),('Self-Employed','helper in household enterprise'),('Self-Employed','all self employed'),('regular wage/salary',''),('casual labour','')]\n",
    "grp = emp.groupby('Category')[emp_types].mean()\n",
    "grp_t = grp.T"
   ]
  },
  {
   "cell_type": "code",
   "execution_count": null,
   "id": "6860711f-71cf-435b-a290-33171d0a10bd",
   "metadata": {},
   "outputs": [],
   "source": [
    "emp_types = [\n",
    "    ('Self-Employed', 'own account worker, employer'),\n",
    "    ('Self-Employed', 'helper in household enterprise'),\n",
    "    ('Self-Employed', 'all self employed'),\n",
    "    ('regular wage/salary', ''),\n",
    "    ('casual labour', '')\n",
    "]\n",
    "\n",
    "# Group by 'Category' and compute mean percentage\n",
    "grp = emp.groupby('Category')[emp_types].mean()\n",
    "grp = grp.reset_index()\n",
    "grp\n",
    "grp_melted = grp.melt(id_vars=[('Category','')], var_name='Employment Type',value_name='Percentage')\n",
    "\n",
    "plt.figure(figsize=(12, 6))\n",
    "sns.barplot(data=grp_melted, x=('Category',''), y='Percentage', hue='Employment Type', palette='viridis')\n",
    "\n",
    "# Formatting\n",
    "plt.title(\"Percentage Distribution of Employment Types Across Categories\")\n",
    "plt.ylabel(\"Percentage (%)\")\n",
    "plt.xlabel(\"Employment Category\")\n",
    "plt.xticks(rotation=45)\n",
    "plt.legend(title=\"Employment Type\")\n",
    "\n",
    "# Show the plot\n",
    "plt.show()"
   ]
  },
  {
   "cell_type": "code",
   "execution_count": null,
   "id": "98f5beb1-d70d-42f4-a3d9-8a9ba8544b14",
   "metadata": {},
   "outputs": [],
   "source": [
    "grp_melted"
   ]
  },
  {
   "cell_type": "code",
   "execution_count": null,
   "id": "813f35bd-01b3-4af0-8041-5f75d5d3fdb6",
   "metadata": {},
   "outputs": [],
   "source": [
    "plt.figure(figsize=(12,6))\n",
    "industry_grouped = emp.groupby(\"Industry as per NIC-2008\")[emp_types].mean()\n",
    "industry_grouped\n",
    "# Plot heatmap\n",
    "sns.heatmap(industry_grouped, annot=True, cmap=\"coolwarm\", fmt=\".1f\", linewidths=0.5)\n",
    "plt.title(\"Employment Type Distribution Across Industries\")\n",
    "plt.ylabel(\"Industry\")\n",
    "plt.xticks(rotation=45)\n",
    "plt.show()\n"
   ]
  },
  {
   "cell_type": "code",
   "execution_count": null,
   "id": "b3a8d501-d5d8-4f90-b051-1e5471dcf7bb",
   "metadata": {},
   "outputs": [],
   "source": [
    "reg = emp.groupby('Industry as per NIC-2008')['regular wage/salary'].agg(['max','min'])\n",
    "\n",
    "reg.plot(kind='bar',figsize=(12,6),colormap='coolwarm')\n",
    "\n",
    "plt.title('Max & Min Percentage of Regular Wage/Salary Workers by Industry')\n",
    "plt.ylabel('Percentage')\n",
    "plt.xlabel('Industry')\n",
    "plt.xticks(rotation=90)  # Rotate x labels for readability\n",
    "plt.legend(title='Statistic')\n",
    "\n",
    "# Show the plot\n",
    "plt.show()"
   ]
  },
  {
   "cell_type": "markdown",
   "id": "eaa71de3-3747-48dd-9702-4dc7618c7020",
   "metadata": {},
   "source": [
    "## Industry-Specific Insights\n",
    "\n",
    "### 1. What percentage of workers are in casual labour across different industries?\n",
    "### 2. Which industries have the highest rates of self-employment?"
   ]
  },
  {
   "cell_type": "code",
   "execution_count": null,
   "id": "6454abdb-5d12-4759-a2fc-8502e7634258",
   "metadata": {},
   "outputs": [],
   "source": [
    "emp.groupby('Industry as per NIC-2008')['casual labour'].describe()"
   ]
  },
  {
   "cell_type": "code",
   "execution_count": null,
   "id": "27c1e6af-90c1-4df6-a930-e441f9629896",
   "metadata": {},
   "outputs": [],
   "source": [
    "plt.figure(figsize=(12,6))\n",
    "sns.boxplot(data=emp,x='Industry as per NIC-2008',y='casual labour', palette='coolwarm', hue='Industry as per NIC-2008')\n",
    "plt.title('Distribution of Casual Labour Across Different Industries')\n",
    "# plt.ylabel('Percentage of Casual Labour')\n",
    "plt.xlabel('Industry')\n",
    "plt.xticks(rotation=90)\n",
    "plt.show()"
   ]
  },
  {
   "cell_type": "markdown",
   "id": "cf9df9bd-e440-43d5-8927-9b2cd2eae85e",
   "metadata": {},
   "source": [
    "## Gender & Employment Type Analysis \n",
    "\n",
    "### Are men more likely to be self-employed compared to women? (refer to above graph on category and employment type)\n",
    "### Do women have a higher self-employment rates by gender using a bar-chart or grouped bar-chart"
   ]
  },
  {
   "cell_type": "markdown",
   "id": "27017974-a3bb-4cc4-bdf7-bda9d0fe7abe",
   "metadata": {},
   "source": [
    "## Casual Labour & Informal Economy\n",
    "\n",
    "### 1. Are there industries where casual labour is more common than regular wage/salary jobs?\n",
    "### 2. What does the distribution of casual labour looks like across industries?"
   ]
  },
  {
   "cell_type": "code",
   "execution_count": null,
   "id": "448f0d7a-550d-4439-a279-c516cdcec1ca",
   "metadata": {},
   "outputs": [],
   "source": [
    "col = [('casual labour',''),('regular wage/salary','')]\n",
    "industry_grp = emp.groupby('Industry as per NIC-2008')[col].mean()\n",
    "industry_grp\n",
    "high_casual_labour = industry_grp[industry_grp['casual labour'] > industry_grp['regular wage/salary']]\n",
    "\n",
    "high_casual_labour.plot(kind='bar', stacked=True, figsize=(12,6), colormap='coolwarm')\n",
    "\n",
    "\n",
    "plt.title('1. Industries Where Casual Labour is More Common than Regular Wage Jobs', fontsize=14, fontweight='bold')\n",
    "plt.ylabel('Percentage of Workforce', fontsize=12)\n",
    "plt.xlabel('Industry', fontsize=12)\n",
    "plt.xticks(rotation=45, ha='right')\n",
    "plt.legend(title=\"Employment Type\")\n",
    "plt.grid(axis='y', linestyle='--', alpha=0.7)\n",
    "\n",
    "# Show plot\n",
    "plt.show()"
   ]
  },
  {
   "cell_type": "markdown",
   "id": "fcea05cb-4988-46a9-8862-1be71723eff5",
   "metadata": {},
   "source": [
    "## Conclusions:\n",
    "\n",
    "* Construction has the highest percentage of casual labour\n",
    "* Agriculture is also heavily casual labour dependent\n",
    "* Secondary industries have a more mixed employment pattern"
   ]
  },
  {
   "cell_type": "code",
   "execution_count": null,
   "id": "ab90b7de-f605-4a7c-b297-e3308e167307",
   "metadata": {},
   "outputs": [],
   "source": [
    "plt.figure(figsize=(10,5))\n",
    "\n",
    "sns.histplot(industry_grp['casual labour'],bins=20,kde=True,color='red',alpha=0.6)\n",
    "plt.title(\"2. Distribution of Casual Labour Across Industries (Industry level trends)\",fontsize=14, fontweight='bold')\n",
    "plt.xlabel('Percentage of Casual Labour',fontsize=12)\n",
    "plt.ylabel('Frequency',fontsize=12)\n",
    "plt.grid(axis='y', linestyle='--', alpha=0.7)\n",
    "plt.show()"
   ]
  },
  {
   "cell_type": "code",
   "execution_count": null,
   "id": "e71e233c-16f6-422c-800a-184a514001f1",
   "metadata": {},
   "outputs": [],
   "source": [
    "plt.figure(figsize=(10,5))\n",
    "\n",
    "sns.histplot(emp['casual labour'],bins=20,kde=True,color='red',alpha=0.6)\n",
    "plt.title(\"2. Distribution of Casual Labour Across Industries (Worker level trends)\",fontsize=14, fontweight='bold')\n",
    "plt.xlabel('Percentage of Casual Labour',fontsize=12)\n",
    "plt.ylabel('Frequency',fontsize=12)\n",
    "plt.grid(axis='y', linestyle='--', alpha=0.7)\n",
    "plt.show()"
   ]
  },
  {
   "cell_type": "code",
   "execution_count": null,
   "id": "3d6c7cf0-c468-4523-889b-6c6d70b7669f",
   "metadata": {},
   "outputs": [],
   "source": [
    "plt.figure(figsize=(12,5))\n",
    "sns.boxplot(data=emp, x=\"Industry as per NIC-2008\", y=\"casual labour\")\n",
    "plt.xticks(rotation=90)\n",
    "plt.title(\"Casual Labour Distribution Across Industries\")\n",
    "plt.show()\n"
   ]
  },
  {
   "cell_type": "markdown",
   "id": "d037960c-7e6d-439c-8ea3-cda394287466",
   "metadata": {},
   "source": [
    "## Conclusions:\n",
    "\n",
    "* Industry-level Trends Graph:\n",
    "  * Each bar represents average casual labour percentage per industry.\n",
    "  * Shows most industries have a casual labour percentage below 20%, but a few industries have much higher rates(~80%)\n",
    "  * The KDE(curve) suggests that industries mostly fall into low casual labour categories\n",
    "  * Helps analyze which industries rely more or less on casual labour\n",
    "* Worker-level Trends Graph:\n",
    "   * Each bar represents individual data points of casual labour\n",
    "   * Shows most workers fall in the lower casual labour range (0-20%), but some workers are in industries with high casual labour (80-100%)\n",
    "   * KDE suggests a skewed distribution meaning casual labour is more common in specific industries\n",
    "   * Helps understand how widespread casual labour is across workers rather than just industries."
   ]
  },
  {
   "cell_type": "markdown",
   "id": "4e5638a1-ce55-4024-93a2-e75ea2aa4802",
   "metadata": {},
   "source": [
    "### EDA on PLFS Employment State dataset"
   ]
  },
  {
   "cell_type": "code",
   "execution_count": null,
   "id": "ac228e7a-ee88-49e8-a4f9-2657e0ce7be0",
   "metadata": {},
   "outputs": [],
   "source": [
    "emp_state = pd.read_csv('Cleaned Data/PLFS/PLFS_emp_state.csv',index_col=False)"
   ]
  },
  {
   "cell_type": "code",
   "execution_count": null,
   "id": "eb403af3-b865-4336-a727-ae8a0726134b",
   "metadata": {},
   "outputs": [],
   "source": [
    "emp_state"
   ]
  },
  {
   "cell_type": "code",
   "execution_count": null,
   "id": "a0bee551-4789-4518-a07f-71b7c87ee8ea",
   "metadata": {},
   "outputs": [],
   "source": [
    "emp_state = emp_state.drop('Unnamed: 0', axis=1)"
   ]
  },
  {
   "cell_type": "code",
   "execution_count": null,
   "id": "ce666234-0bf4-41a4-a2d8-cb37467ddd8a",
   "metadata": {},
   "outputs": [],
   "source": [
    "emp_state.head()"
   ]
  },
  {
   "cell_type": "code",
   "execution_count": null,
   "id": "032c9159-feda-4163-a16d-4d626eb2f3ba",
   "metadata": {},
   "outputs": [],
   "source": [
    "emp_state.info()"
   ]
  },
  {
   "cell_type": "code",
   "execution_count": null,
   "id": "5029ee5d-94a6-45ba-b545-683d5a32cad7",
   "metadata": {},
   "outputs": [],
   "source": [
    "categories = ['Male', 'Female', 'Persons'] * 9\n",
    "\n",
    "rows_per_set = 36\n",
    "\n",
    "category_col = [categories[i // rows_per_set] for i in range(len(emp_state))]\n",
    "emp_state['Category'] = category_col\n",
    "emp_state"
   ]
  },
  {
   "cell_type": "code",
   "execution_count": null,
   "id": "69fd27ed-8e80-471c-99cd-ea6fe878c3bf",
   "metadata": {},
   "outputs": [],
   "source": [
    "emp_state.iloc[55]"
   ]
  },
  {
   "cell_type": "code",
   "execution_count": null,
   "id": "4dd59831-3150-4f49-bad0-b558a553dbb7",
   "metadata": {},
   "outputs": [],
   "source": [
    "# Filtered out all India rows from the dataframe\n",
    "emp_1 = emp_state[~emp_state['State/UT'].str.contains('all India',case=False, na=False)]\n",
    "all_india = emp_state[emp_state['State/UT'].str.contains('all India',case=False, na=False)]"
   ]
  },
  {
   "cell_type": "code",
   "execution_count": null,
   "id": "d1257e2a-ed3a-45d6-9b06-583630ffefd7",
   "metadata": {},
   "outputs": [],
   "source": [
    "all_india.sort_values(by='Category',inplace=True)"
   ]
  },
  {
   "cell_type": "code",
   "execution_count": null,
   "id": "c615cf70-917e-479e-95a0-4bf6f84dbba1",
   "metadata": {},
   "outputs": [],
   "source": [
    "all_india.reset_index(drop=True,inplace=True)"
   ]
  },
  {
   "cell_type": "code",
   "execution_count": null,
   "id": "ab51331f-5385-46c8-983e-f62ced382e60",
   "metadata": {},
   "outputs": [],
   "source": [
    "all_india"
   ]
  },
  {
   "cell_type": "code",
   "execution_count": null,
   "id": "6aef922d-d10f-4d59-9695-68dfb0aad829",
   "metadata": {},
   "outputs": [],
   "source": [
    "emp_1.info()"
   ]
  },
  {
   "cell_type": "markdown",
   "id": "027e15f7-01d4-4ecd-9696-f141c9a738ff",
   "metadata": {},
   "source": [
    "## Column Types:\n",
    "\n",
    "* `Numerical`: own account worker, employer; helper in household enterprise\tall self ; all self employed; regular wage/salary; casual labour;  all\n",
    "* `Categorical`: Category\n",
    "* `Mixed`: State/UT\n"
   ]
  },
  {
   "cell_type": "markdown",
   "id": "aff7203e-c42c-4312-a890-6e3affef838a",
   "metadata": {},
   "source": [
    "## Univariate Analysis on Numerical Cols"
   ]
  },
  {
   "cell_type": "markdown",
   "id": "078e469b-a445-4c37-8552-a460dea6fc84",
   "metadata": {},
   "source": [
    "### Own account, worker, employer"
   ]
  },
  {
   "cell_type": "code",
   "execution_count": null,
   "id": "66f33020-75a1-4f28-a70f-bd13dec10453",
   "metadata": {},
   "outputs": [],
   "source": [
    "emp_1.head()"
   ]
  },
  {
   "cell_type": "code",
   "execution_count": null,
   "id": "3f66a567-a34a-4912-bbc4-fcaa9e16203e",
   "metadata": {},
   "outputs": [],
   "source": [
    "emp_1.describe()"
   ]
  },
  {
   "cell_type": "code",
   "execution_count": null,
   "id": "cb6677d5-d7bc-4b65-8ca3-b0bc3d352c35",
   "metadata": {},
   "outputs": [],
   "source": [
    "emp_1['Own account, worker, employer'].skew()"
   ]
  },
  {
   "cell_type": "code",
   "execution_count": null,
   "id": "53f614cc-c8ad-4b66-bfdc-87666a84f49e",
   "metadata": {},
   "outputs": [],
   "source": [
    "plt.figure(figsize=(8,5))\n",
    "sns.histplot(emp_1['Own account, worker, employer'],kde=True,bins=10)\n",
    "plt.title('Distribution of Own account, worker, employer')\n",
    "plt.xlabel('Percentage')\n",
    "plt.ylabel('Frequency')\n",
    "plt.show()\n",
    "\n",
    "#Boxplot\n",
    "plt.figure(figsize=(10,5))\n",
    "sns.boxplot(x=emp_1['Own account, worker, employer'])\n",
    "plt.title('Boxplot of Own Account Worker, Employer')\n",
    "plt.show()"
   ]
  },
  {
   "cell_type": "markdown",
   "id": "1046dfab-87c8-4093-8bca-dad61844ac76",
   "metadata": {},
   "source": [
    "## Conclusions:\n",
    "\n",
    "* Histogram:\n",
    "  * shows normal distribution as there almost 0 skewness in the distribution, this tells us that Own account worker, employer are normally distributed all over india\n",
    "  * Here percentage peaks at 30-50%\n",
    "* Boxplot:\n",
    "  * 2 outliers are present in this data\n",
    "  * Median value is above 30 and below 40 with a wide IQR range indicating siginificant variablility across states.\n",
    "  * Outliers exist above 65-67% "
   ]
  },
  {
   "cell_type": "markdown",
   "id": "5908dc78-efc4-4cf7-925e-81fd9bb42ff3",
   "metadata": {},
   "source": [
    "### Helper in Household Enterprise"
   ]
  },
  {
   "cell_type": "code",
   "execution_count": null,
   "id": "7360b266-9f95-4692-ad7a-9a7833ed0f7b",
   "metadata": {},
   "outputs": [],
   "source": [
    "plt.figure(figsize=(10,5))\n",
    "sns.histplot(emp_1['Helper in household enterprise'],kde=True,bins=10)\n",
    "plt.title('Distribution of Helpers in Household Enterprises')\n",
    "plt.xlabel('Percentage of Workforce')\n",
    "plt.ylabel('Frequency')\n",
    "plt.show()\n",
    "\n",
    "plt.figure(figsize=(10,5))\n",
    "sns.boxplot(x=emp_1['Helper in household enterprise'])\n",
    "plt.title('Boxplot of Helpers in Household Enterprises')\n",
    "plt.show()"
   ]
  },
  {
   "cell_type": "code",
   "execution_count": null,
   "id": "a8808546-0ee6-465d-b034-52769bdf9446",
   "metadata": {},
   "outputs": [],
   "source": [
    "c = emp_1.groupby('Category')['Helper in household enterprise'].describe()\n",
    "c.loc[:,'mean'].plot(kind='bar', figsize=(10,5), title='Mean Percentage of Helpers by Category')\n",
    "plt.ylabel('Percentage of Workforce')\n",
    "plt.show()"
   ]
  },
  {
   "cell_type": "markdown",
   "id": "35931d0f-dc94-4f53-bcfd-5a842a781021",
   "metadata": {},
   "source": [
    "### Conclusion:\n",
    "\n",
    "* Histogram & KDE:\n",
    "  * The distribution is right-skewed(positively), showing that most States have low values of \"Helpers in Household Enterprise\"\n",
    "  * The highest frequency is near 0-10% showing most states very few people employed in this type.\n",
    "  * long tail extends towards 20-70%, meaning few states have some values of Helpers in household enterprise\n",
    "* Boxplot:\n",
    "  * median is low\n",
    "  * There are several outliers beyond 45%\n",
    "  * IQR is narrow, means that most values are concentrated in the lower range\n",
    "* After doing groupby, we find that females have the highest mean out of the 3 category hence the outliers "
   ]
  },
  {
   "cell_type": "markdown",
   "id": "5192e9ee-852c-49f2-914d-a8e4e0b57b5c",
   "metadata": {},
   "source": [
    "## All self employed"
   ]
  },
  {
   "cell_type": "code",
   "execution_count": null,
   "id": "ae60e780-fee3-408b-8b25-e67eab854bde",
   "metadata": {},
   "outputs": [],
   "source": [
    "plt.figure(figsize=(10,5))\n",
    "n = len(emp_1['All self employed'])\n",
    "bins = int(np.sqrt(n)) # Square root rule for finding binsize\n",
    "sns.histplot(emp_1['All self employed'], kde=True, bins=bins)\n",
    "plt.xlabel('Percentage of Workforce')\n",
    "plt.ylabel('Frequency')\n",
    "plt.title('Distribution of All-self employed workers')\n",
    "plt.show()\n",
    "\n",
    "plt.figure(figsize=(10,5))\n",
    "sns.boxplot(emp_1['All self employed'])\n",
    "plt.title('Boxplot of All Self-Employed Workers')\n",
    "plt.show()"
   ]
  },
  {
   "cell_type": "markdown",
   "id": "e0041fe6-7bc2-4540-abb6-8fb8e8a25dc8",
   "metadata": {},
   "source": [
    "### Conclusions \n",
    "\n",
    "* Distribution is roughly normal, the peak frequency occurs around 50-55% of the workforce\n",
    "* Most data falls between 30-70% of the workforce\n",
    "* The relatively symmetric shape indicates most states have similar self-employment percentages with fewer cases at the extreme\n",
    "* Boxplot indicates:\n",
    "  * median is around 50-55%\n",
    "  * IQR range approx between 40-65%\n",
    "  * min: around 15%\n",
    "  * max: around 90%"
   ]
  },
  {
   "cell_type": "code",
   "execution_count": null,
   "id": "060152eb-71e4-4478-880b-568d53ddca15",
   "metadata": {},
   "outputs": [],
   "source": [
    "plt.figure(figsize=(10,5))\n",
    "n = len(emp_1['Regular wage/salary'])\n",
    "bins = int(np.sqrt(n)) # Square root rule for finding binsize\n",
    "sns.histplot(emp_1['Regular wage/salary'],kde=True, bins=10)\n",
    "plt.xlabel('Percentage of Regular wage/Salary Workers')\n",
    "plt.ylabel('Frequency')\n",
    "plt.title('Distribution of Regular wage/salary')\n",
    "plt.show()\n",
    "\n",
    "plt.figure(figsize=(8,4))\n",
    "sns.boxplot(x=emp_1['Regular wage/salary'])\n",
    "plt.title('Boxplot of Regular wage/salary')\n",
    "plt.show()"
   ]
  },
  {
   "cell_type": "markdown",
   "id": "298bcbe6-d32d-4c59-8300-5a9f908c9d27",
   "metadata": {},
   "source": [
    "### Histogram (Distribution of Regular Wage/Salary)\n",
    "* Primary Peak: The most prominent feature is the peak in the 10-20% range with a frequency of approximately 60 workers. This indicates that the largest concentration of workers earn between 10-20% of their regular wage/salary.\n",
    "\n",
    "* Right-Skewed Distribution: The distribution shows a clear right skew, with a long tail extending toward higher percentage values. This means that while most workers are concentrated in the lower percentage ranges, there are progressively fewer workers as the percentage increases.\n",
    "\n",
    "* Declining Frequency Pattern: After the initial peak, there's a steady decline in frequency as the percentage increases. The frequency drops significantly after the 20% mark.\n",
    "\n",
    "* Low Frequency in Higher Ranges: Very few workers appear in the 60-80% range, showing that high percentages of regular wage/salary are relatively uncommon in this population.\n",
    "\n",
    "### Boxplot (Boxplot of Regular Wage/Salary)\n",
    "* Median Position: The median (vertical line inside the box) is positioned around 40%, indicating that half of the workers earn less than 40% of their regular wage/salary and half earn more.\n",
    "\n",
    "* Interquartile Range (IQR): The box spans from approximately 20% to 60%, representing the middle 50% of the data. This 40% spread shows considerable variability in the central portion of the distribution.\n",
    "\n",
    "* Whisker Extent: The whiskers extend from near 0% to about 80%, showing the full range of the data without outliers. The longer right whisker (from median to upper end) compared to the left whisker reinforces the right-skewed nature of the distribution.\n",
    "\n",
    "* Data Concentration: The width of the box relative to the whiskers indicates that while the data spans a wide range (0-80%), there's a notable concentration in the 20-60% range.\n",
    "\n",
    "* Overall Insights\n",
    "Bimodal Tendency: Looking at both graphs together, there might be a slight bimodal tendency, with concentrations around the 10-20% range and another smaller concentration around 40-50%.\n",
    "\n",
    "* Inequality Indicator: The right-skewed distribution suggests inequality in wage/salary distribution, with many workers at lower percentages and fewer at higher percentages.\n",
    "\n",
    "* Central Tendency vs. Mode Discrepancy: There's an interesting discrepancy between the mode (10-20% from the histogram) and the median (around 40% from the boxplot), which further emphasizes the skewed nature of the distribution.\n",
    "\n",
    "* Smooth Transition: The density curve overlaid on the histogram shows a relatively smooth transition, suggesting that while there are peaks, the distribution changes gradually rather than having sharp cutoffs between groups.\n",
    "\n",
    "These features collectively paint a picture of a wage/salary distribution where most workers earn a relatively small percentage of their regular wage/salary, with progressively fewer workers earning higher percentages."
   ]
  },
  {
   "cell_type": "code",
   "execution_count": null,
   "id": "a3df8be1-9982-4cfe-8bf4-56e0432b0803",
   "metadata": {},
   "outputs": [],
   "source": [
    "plt.figure(figsize=(10,5))\n",
    "n = len(emp_1['Casual labour'])\n",
    "bins = int(np.sqrt(n)) # Square root rule for finding binsize\n",
    "sns.histplot(emp_1['Casual labour'],kde=True, bins=10)\n",
    "plt.xlabel('Percentage of Casual Labour')\n",
    "plt.ylabel('Frequency')\n",
    "plt.title('Distribution of Casual Labour')\n",
    "plt.show()\n",
    "\n",
    "plt.figure(figsize=(8,4))\n",
    "sns.boxplot(x=emp_1['Casual labour'])\n",
    "plt.title('Boxplot of Casual Labour')\n",
    "plt.show()"
   ]
  },
  {
   "cell_type": "markdown",
   "id": "73c490b5-274d-4ca4-8576-a474afa89a9b",
   "metadata": {},
   "source": [
    "### Histogram: \"Distribution of Casual Labour\"\n",
    "* Type of Graph: Histogram with a density curve.\n",
    "* Key Features:\n",
    "    * The distribution peaks around the 10% range, with the highest frequency of approximately 60 workers.\n",
    "    * The distribution is right-skewed, with a long tail extending toward higher percentages.\n",
    "    * Frequencies decrease steadily after the peak, with very few workers in the 30-40% range.\n",
    "### Boxplot: \"Boxplot of Casual Labour\"\n",
    "Key Features:\n",
    "* The median is around 15%.\n",
    "* The interquartile range (IQR) spans from approximately 15% to 20%.\n",
    "* There are outliers beyond the upper whisker, around the 40% mark.\n",
    "\n",
    "### Histogram Features:\n",
    "* Primary Peak: The distribution has a prominent peak at approximately 10% with a frequency of about 60 workers, indicating this is the most common percentage of casual labor.\n",
    "* Right Skewness: The distribution shows significant right skewness, with a long tail extending toward higher percentages (30-40%).\n",
    "* Rapid Decline: After the peak, there's a steep decline in frequency, showing that higher percentages of casual labor become increasingly uncommon.\n",
    "* Range: The distribution primarily spans from 0% to about 40%, with very few data points beyond this range.\n",
    "### Boxplot Features:\n",
    "* Median: Positioned at approximately 15%, showing the central tendency of casual labor percentage.\n",
    "* Interquartile Range (IQR): Spans from about 15% to 20%, representing the middle 50% of the data.\n",
    "* Outliers: Several outliers appear beyond the upper whisker, around the 40% mark, representing unusual cases with higher casual labor percentages.\n",
    "* Compact Distribution: The relatively narrow IQR suggests consistency in the lower range of casual labor percentages."
   ]
  },
  {
   "cell_type": "code",
   "execution_count": null,
   "id": "5eea584d-50d7-4f4f-bbb3-a29e5a43fe8f",
   "metadata": {},
   "outputs": [],
   "source": [
    "emp_1.head()"
   ]
  },
  {
   "cell_type": "code",
   "execution_count": null,
   "id": "c1717016-eab5-47f4-a50d-f717a5079bb5",
   "metadata": {},
   "outputs": [],
   "source": [
    "emp_1.corr(numeric_only=True)"
   ]
  },
  {
   "cell_type": "markdown",
   "id": "0e6d6043-5850-4d34-b738-c7c894a16a46",
   "metadata": {},
   "source": [
    "## Further Analysis\n",
    "\n",
    "### 1. Regional Patterns: \n",
    "\n",
    "* How does employment status vary by state or union territory?\n",
    "* Are there noticeable regional clusters or patterns in the percentages of self-employed, wage/salary, and casual labor workers?"
   ]
  },
  {
   "cell_type": "code",
   "execution_count": null,
   "id": "fbc44878-3e23-4e91-bb56-e6c5abc7b084",
   "metadata": {},
   "outputs": [],
   "source": [
    "cols = ['Own account, worker, employer','Helper in household enterprise','All self employed','Regular wage/salary','Casual labour']\n",
    "emp_grp = emp_1.groupby('State/UT')[cols].describe()"
   ]
  },
  {
   "cell_type": "code",
   "execution_count": null,
   "id": "813a110f-53c5-4348-9722-c027a3aaad12",
   "metadata": {},
   "outputs": [],
   "source": [
    "# Sorting for Self-Employment\n",
    "top_self_emp = emp_1.sort_values(\n",
    "    ['Own account, worker, employer', 'Helper in household enterprise', 'All self employed'], \n",
    "    ascending=[False, False, False]\n",
    ").head(10)\n",
    "\n",
    "bottom_self_emp = emp_1.sort_values(\n",
    "    ['Own account, worker, employer', 'Helper in household enterprise', 'All self employed'], \n",
    "    ascending=[True, True, True]\n",
    ").head(10)\n",
    "\n",
    "# Sorting for Regular Wage/Salary\n",
    "top_wage_emp = emp_1.sort_values('Regular wage/salary', ascending=False).head(10)\n",
    "bottom_wage_emp = emp_1.sort_values('Regular wage/salary', ascending=True).head(10)\n",
    "\n",
    "# Sorting for Casual Labour\n",
    "top_casual_emp = emp_1.sort_values('Casual labour', ascending=False).head(10)\n",
    "bottom_casual_emp = emp_1.sort_values('Casual labour', ascending=True).head(10)\n",
    "\n",
    "# **Fixing Visualization**\n",
    "# Melt the dataframe for plotting\n",
    "top_self_emp_melted = top_self_emp.melt(id_vars=['State/UT'], \n",
    "                                        value_vars=['Own account, worker, employer', \n",
    "                                                    'Helper in household enterprise', \n",
    "                                                    'All self employed'], \n",
    "                                        var_name='Employment Type', \n",
    "                                        value_name='Percentage')\n",
    "\n",
    "# Create the bar plot\n",
    "plt.figure(figsize=(12, 6))\n",
    "sns.barplot(x='Percentage', y='State/UT', hue='Employment Type', data=top_self_emp_melted, palette='coolwarm')\n",
    "\n",
    "plt.title('Top 10 States/UTs by Self-Employment Percentage', fontsize=16)\n",
    "plt.xlabel('Percentage (%)', fontsize=14)\n",
    "plt.ylabel('State/UT', fontsize=14)\n",
    "plt.legend(title='Employment Type')\n",
    "plt.tight_layout()\n",
    "plt.show()\n",
    "\n",
    "top_wage_emp_melted = top_wage_emp.melt(id_vars=['State/UT'],\n",
    "                                        value_vars='Regular wage/salary',\n",
    "                                        var_name = 'Employment Type',\n",
    "                                        value_name='Percentage')\n",
    "sns.barplot(x='Percentage',y='State/UT',hue='Employment Type',data=top_wage_emp_melted,palette='dark:skyblue',legend=False)\n",
    "plt.title('Top 10 States/UTs by Wage/Salaried Percentage', fontsize=16)\n",
    "plt.xlabel('Percentage (%)', fontsize=14)\n",
    "plt.ylabel('State/UT', fontsize=14)\n",
    "plt.tight_layout()\n",
    "plt.show()\n",
    "\n",
    "top_casual_emp_melted = top_casual_emp.melt(id_vars=['State/UT'],\n",
    "                                           value_vars='Casual labour',\n",
    "                                           var_name = 'Employment Type',\n",
    "                                           value_name='Percentage')\n",
    "sns.barplot(x='Percentage',y='State/UT',hue='Employment Type', data=top_casual_emp_melted,palette='viridis',legend=False)\n",
    "plt.title('Top 10 States/UTs by Casual labour Percentage', fontsize=16)\n",
    "plt.xlabel('Percentage (%)', fontsize=14)\n",
    "plt.ylabel('State/UT', fontsize=14)\n",
    "plt.tight_layout()\n",
    "plt.show()"
   ]
  },
  {
   "cell_type": "code",
   "execution_count": null,
   "id": "d0564bf7-9405-449a-bafd-e0313b1e2f87",
   "metadata": {},
   "outputs": [],
   "source": [
    "# Grouping by state to analyze employment trends\n",
    "emp_statewise = emp_1.groupby('State/UT')[['Own account, worker, employer', 'Helper in household enterprise', \n",
    "                                           'All self employed', 'Regular wage/salary', 'Casual labour']].mean()\n",
    "\n"
   ]
  },
  {
   "cell_type": "code",
   "execution_count": null,
   "id": "d28e865e-0eb9-4f7d-9249-c392ad8ebed3",
   "metadata": {},
   "outputs": [],
   "source": [
    "# Plotting the employment distribution across states\n",
    "plt.figure(figsize=(14,7))\n",
    "\n",
    "# Stacked bar chart\n",
    "emp_statewise.plot(kind='bar', stacked=True, colormap='viridis', figsize=(14,7))\n",
    "\n",
    "plt.title('Employment Status Distribution Across States/UTs', fontsize=16)\n",
    "plt.xlabel('State/UT', fontsize=12)\n",
    "plt.ylabel('Percentage (%)', fontsize=12)\n",
    "plt.legend(title=\"Employment Type\")\n",
    "plt.xticks(rotation=90)\n",
    "plt.tight_layout()\n",
    "plt.show()\n"
   ]
  },
  {
   "cell_type": "code",
   "execution_count": null,
   "id": "b3cfff42-e3b5-4cac-8783-af9cc8f2ff10",
   "metadata": {},
   "outputs": [],
   "source": [
    "plt.figure(figsize=(14,8))\n",
    "sns.heatmap(emp_statewise,cmap='coolwarm',annot=True,fmt='.1f',linewidth=0.5)\n",
    "plt.title('Employment Patterns Across States/UT',fontsize=16)\n",
    "plt.xlabel('Employment Type',fontsize=12)\n",
    "plt.ylabel('State/UT',fontsize=12)\n",
    "plt.xticks(rotation=45)\n",
    "plt.yticks(rotation=0)\n",
    "plt.show()"
   ]
  },
  {
   "cell_type": "markdown",
   "id": "b3ef6c79-4ef4-4291-97bf-6beeb2fad3ff",
   "metadata": {},
   "source": [
    "## Gender Based Analysis\n",
    "\n",
    "* Splitting by the category column:\n",
    "  * Compare how employment patterns differ among the gender categories.\n",
    "* Self-Employment Rates by Gender:\n",
    "  * Examine and compare the self employment percentages between male and female groups."
   ]
  },
  {
   "cell_type": "code",
   "execution_count": null,
   "id": "7cf30e21-f2a5-4b59-b856-dc68908856b9",
   "metadata": {},
   "outputs": [],
   "source": [
    "gen = emp_1.groupby('Category')[cols].mean()"
   ]
  },
  {
   "cell_type": "code",
   "execution_count": null,
   "id": "2697635f-5681-46b2-b904-dc94182429b1",
   "metadata": {},
   "outputs": [],
   "source": []
  },
  {
   "cell_type": "code",
   "execution_count": null,
   "id": "0d74b303-6959-4212-8e85-9567798e57e3",
   "metadata": {},
   "outputs": [],
   "source": [
    "plt.figure(figsize=(10,6))\n",
    "gen[['Own account, worker, employer', 'Helper in household enterprise', 'All self employed']].plot(kind='bar', colormap='viridis', figsize=(10,6))\n",
    "plt.title('Self-Employment Rates by Gender', fontsize=14, fontweight='bold')\n",
    "plt.xlabel('Gender Category', fontsize=12)\n",
    "plt.ylabel('Percentage of Workforce', fontsize=12)\n",
    "plt.legend(title=\"Employment Type\")\n",
    "plt.xticks(rotation=0)\n",
    "plt.grid(axis='y', linestyle='--', alpha=0.7)\n",
    "plt.show()"
   ]
  },
  {
   "cell_type": "code",
   "execution_count": null,
   "id": "6b3d4b12-28e6-476c-bed1-f126c860d2f6",
   "metadata": {},
   "outputs": [],
   "source": [
    "plt.figure(figsize=(10,6))\n",
    "gen['Regular wage/salary'].plot(kind='bar', colormap='viridis', figsize=(10,6))\n",
    "plt.title('Regular wage/salary Rates by Gender', fontsize=14, fontweight='bold')\n",
    "plt.xlabel('Gender Category', fontsize=12)\n",
    "plt.ylabel('Percentage of Workforce', fontsize=12)\n",
    "plt.legend(title=\"Employment Type\")\n",
    "plt.xticks(rotation=0)\n",
    "plt.grid(axis='y', linestyle='--', alpha=0.7)\n",
    "plt.show()"
   ]
  },
  {
   "cell_type": "code",
   "execution_count": null,
   "id": "35a160d8-b2ca-479f-9937-087be912b90a",
   "metadata": {},
   "outputs": [],
   "source": [
    "plt.figure(figsize=(10,6))\n",
    "gen['Casual labour'].plot(kind='bar', colormap='viridis', figsize=(10,6))\n",
    "plt.title('Casual Labour Rates by Gender', fontsize=14, fontweight='bold')\n",
    "plt.xlabel('Gender Category', fontsize=12)\n",
    "plt.ylabel('Percentage of Workforce', fontsize=12)\n",
    "plt.legend(title=\"Employment Type\")\n",
    "plt.xticks(rotation=0)\n",
    "plt.grid(axis='y', linestyle='--', alpha=0.7)\n",
    "plt.show()"
   ]
  },
  {
   "cell_type": "code",
   "execution_count": null,
   "id": "daa953c2-2e73-4642-bce0-b2f8dffd0416",
   "metadata": {},
   "outputs": [],
   "source": [
    "gen.plot(kind='bar',stacked=True,colormap='viridis',figsize=(10,6))\n",
    "plt.title('Employment Patterns by Gender')\n",
    "plt.ylabel('Percentage of Workforce',fontsize=12)\n",
    "plt.legend(title='Employment Type', loc='upper left', bbox_to_anchor=(1,1))\n",
    "plt.xticks(rotation=0)\n",
    "plt.grid(axis='y',linestyle='--',alpha=0.7)\n",
    "plt.show()"
   ]
  },
  {
   "cell_type": "markdown",
   "id": "50ab15fb-bb95-4ac3-8538-a624a679e925",
   "metadata": {},
   "source": [
    "## Sectoral Comparisions\n",
    "\n",
    "* Highest Self-Employed States versus Wage/Salary Workers:\n",
    "    * Identify states where self-employment percentage is highest relative to regular wage/salary workers.\n",
    "* Correlations Between Employment Types:\n",
    "  * Explore if there's a statistical correlation between different categories."
   ]
  },
  {
   "cell_type": "code",
   "execution_count": null,
   "id": "42174858-c719-4c1e-a611-6aeb09db22da",
   "metadata": {},
   "outputs": [],
   "source": [
    "emp_1['SelfEmp_Wage_Ratio'] = emp_1['All self employed']/emp_1['Regular wage/salary']\n",
    "\n",
    "top_self_emp_states = emp_1.sort_values('SelfEmp_Wage_Ratio',ascending=False).head(10)\n",
    "bottom_self_emp_states = emp_1.sort_values('SelfEmp_Wage_Ratio').head(10)\n",
    "\n",
    "plt.figure(figsize=(12,6))\n",
    "sns.scatterplot(data=emp_1,x='All self employed',y='Regular wage/salary',size='SelfEmp_Wage_Ratio',hue='SelfEmp_Wage_Ratio',palette='coolwarm',sizes=(50,300),edgecolor='black')\n",
    "\n",
    "for i, row in top_self_emp_states.iterrows():\n",
    "    plt.text(row['All self employed'], row['Regular wage/salary'], row['State/UT'],fontsize=10,ha='right')\n",
    "\n",
    "plt.title('Self-Employment vs Regular Wage/Salary by State', fontsize=14, fontweight='bold')\n",
    "plt.xlabel('Self-Employment (%)', fontsize=12)\n",
    "plt.ylabel('Regular Wage/Salary (%)', fontsize=12)\n",
    "plt.grid(True, linestyle='--', alpha=0.5)\n",
    "plt.legend(title=\"SelfEmp/Wage Ratio\", bbox_to_anchor=(1.05, 1), loc='upper left')\n",
    "\n",
    "plt.show()"
   ]
  },
  {
   "cell_type": "code",
   "execution_count": null,
   "id": "98e2f6fc-e6fe-4eb7-a0a8-7b43e15660c7",
   "metadata": {},
   "outputs": [],
   "source": [
    "# Exploring Correlations Between Employment Types \n",
    "emp_cols = ['All self employed','Regular wage/salary','Casual labour']\n",
    "\n",
    "corr_matrix = emp_1[emp_cols].corr(method='pearson')\n",
    "\n",
    "plt.figure(figsize=(8,6))\n",
    "sns.heatmap(corr_matrix, annot=True, cmap='coolwarm',fmt='.2f',linewidths=0.5)\n",
    "plt.title('Correlation Matrix of Employment Categories',fontsize=16,fontweight='bold')\n",
    "plt.show()\n",
    "\n",
    "plt.figure(figsize=(12,5))\n",
    "for i,col in enumerate(emp_cols[1:]):\n",
    "    plt.subplot(1,2,i+1)\n",
    "    sns.regplot(x=emp_1['All self employed'],y=emp_1[col], scatter_kws={'alpha':0.6},line_kws={'color':'red'})\n",
    "    plt.title(f\"Self-Employment vs {col}\")\n",
    "    plt.xlabel('Self-Employment(%)')\n",
    "    plt.ylabel(f'{col}(%)')\n",
    "\n",
    "plt.tight_layout()\n",
    "plt.show()\n",
    "\n",
    "sns.pairplot(emp_1[emp_cols],kind='reg',diag_kind='kde',plot_kws={'scatter_kws':{'alpha':0.7}})\n",
    "plt.suptitle('Pairwise Relationships Between Employment Types',fontsize=16, fontweight='bold',y=1.02)\n",
    "plt.show()"
   ]
  },
  {
   "cell_type": "markdown",
   "id": "78116e03-6f06-4198-9b26-7b4b95e6dc8d",
   "metadata": {},
   "source": [
    "### Unemployment Rate Dataset (PLFS)"
   ]
  },
  {
   "cell_type": "code",
   "execution_count": null,
   "id": "7155c332-7b05-4854-a33e-1ebb64c9e755",
   "metadata": {},
   "outputs": [],
   "source": [
    "unemp_rate = pd.read_csv('Cleaned Data/PLFS/Unemp_Rate.csv',header=None,skiprows=1)\n",
    "unemp_rate.head()"
   ]
  },
  {
   "cell_type": "code",
   "execution_count": null,
   "id": "78d78198-9c36-4b44-a715-0caf670115d5",
   "metadata": {},
   "outputs": [],
   "source": [
    "col = pd.MultiIndex.from_tuples([\n",
    "    ('State/UT',''),\n",
    "    ('Rural','Male'),('Rural','Female'),('Rural','Person'),\n",
    "    ('Urban','Male'),('Urban','Female'),('Urban','Person'),\n",
    "    ('Rural+Urban','Male'),('Rural+Urban','Female'),('Rural+Urban','Person')\n",
    "])"
   ]
  },
  {
   "cell_type": "code",
   "execution_count": null,
   "id": "ad4a451d-e010-4e4d-b607-b1fc8ceaa97c",
   "metadata": {},
   "outputs": [],
   "source": [
    "unemp_rate.columns = col\n",
    "unemp_rate.head()"
   ]
  },
  {
   "cell_type": "code",
   "execution_count": null,
   "id": "25ed7551-283b-4847-9553-07f28d936df6",
   "metadata": {},
   "outputs": [],
   "source": [
    "unemp_rate.info()"
   ]
  },
  {
   "cell_type": "code",
   "execution_count": null,
   "id": "d0dc421c-368f-4fe1-a5bc-842a056b4f27",
   "metadata": {},
   "outputs": [],
   "source": [
    "unemp_rate"
   ]
  },
  {
   "cell_type": "code",
   "execution_count": null,
   "id": "7e91e9fe-8481-41bc-9b03-6a4bf9aa3c9c",
   "metadata": {},
   "outputs": [],
   "source": [
    "unemp_rate.loc[31,('Rural','Male')] = 0\n",
    "unemp_rate.loc[31,('Rural','Female')] = 0\n",
    "unemp_rate.loc[31,('Rural','Person')] = 0"
   ]
  },
  {
   "cell_type": "code",
   "execution_count": null,
   "id": "6b259a9f-a0f8-4fab-83b7-10863a6273c8",
   "metadata": {},
   "outputs": [],
   "source": [
    "unemp_rate.info()"
   ]
  },
  {
   "cell_type": "code",
   "execution_count": null,
   "id": "a3dd072d-aab5-48ab-9fc8-86569eeb3411",
   "metadata": {},
   "outputs": [],
   "source": [
    "for category in ['Rural','Urban','Rural+Urban']:\n",
    "    for group in ['Male','Female','Person']:\n",
    "        unemp_rate[(category,group)] = pd.to_numeric(unemp_rate[(category,group)], errors='coerce')"
   ]
  },
  {
   "cell_type": "code",
   "execution_count": null,
   "id": "49fd0804-b521-4e9e-875a-fe166a16dafc",
   "metadata": {},
   "outputs": [],
   "source": [
    "unemp_rate.info()"
   ]
  },
  {
   "cell_type": "code",
   "execution_count": null,
   "id": "c4d5ed71-4b2b-4f95-9527-40f8667d6b53",
   "metadata": {},
   "outputs": [],
   "source": [
    "unemp_rate_f = unemp_rate[~unemp_rate['State/UT'].str.contains('all India',case=False, na=False)]\n",
    "all_ = unemp_rate[unemp_rate['State/UT'].str.contains('all India',case=False, na=False)]"
   ]
  },
  {
   "cell_type": "markdown",
   "id": "9a833030-f9cc-48b9-abce-933adc45fba4",
   "metadata": {},
   "source": [
    "### Unemployment Rate Distribution\n",
    "\n",
    "* Histogram of rural, urban, and overall unemployment rates.\n",
    "\n",
    "* Boxplots to show the spread of unemployment rates across states."
   ]
  },
  {
   "cell_type": "code",
   "execution_count": null,
   "id": "a1e093c0-c26e-4bcc-a26c-7bebe10ba9a6",
   "metadata": {},
   "outputs": [],
   "source": [
    "sns.set_style('whitegrid')\n",
    "\n",
    "plt.figure(figsize=(12, 5))\n",
    "plt.hist(unemp_rate_f[(\"Rural\", \"Person\")], bins=15, alpha=0.6, label=\"Rural\", color='blue', edgecolor='black')\n",
    "plt.hist(unemp_rate_f[(\"Urban\", \"Person\")], bins=15, alpha=0.6, label=\"Urban\", color='red', edgecolor='black')\n",
    "plt.hist(unemp_rate_f[(\"Rural+Urban\", \"Person\")], bins=15, alpha=0.6, label=\"Overall\", color='green', edgecolor='black')\n",
    "\n",
    "# Labels and Title\n",
    "plt.xlabel(\"Unemployment Rate (%)\")\n",
    "plt.ylabel(\"Number of States/UTs\")\n",
    "plt.title(\"Distribution of Unemployment Rates (Rural, Urban, Overall)\")\n",
    "plt.legend()\n",
    "plt.show()"
   ]
  },
  {
   "cell_type": "code",
   "execution_count": null,
   "id": "2cfd6f45-3067-4079-94f2-e7389b62df01",
   "metadata": {},
   "outputs": [],
   "source": [
    "# --- KDE (Density Plot) ---\n",
    "plt.figure(figsize=(10, 5))\n",
    "sns.kdeplot(unemp_rate_f[(\"Rural\", \"Person\")], fill=True, color=\"blue\", label=\"Rural\", alpha=0.5)\n",
    "sns.kdeplot(unemp_rate_f[(\"Urban\", \"Person\")], fill=True, color=\"red\", label=\"Urban\", alpha=0.5)\n",
    "sns.kdeplot(unemp_rate_f[(\"Rural+Urban\", \"Person\")], fill=True, color=\"green\", label=\"Overall\", alpha=0.5)\n",
    "\n",
    "# Labels and Title\n",
    "plt.xlabel(\"Unemployment Rate (%)\")\n",
    "plt.ylabel(\"Density\")\n",
    "plt.title(\"Distribution of Unemployment Rates (Rural, Urban, Overall)\")\n",
    "plt.legend()\n",
    "plt.show()\n",
    "\n",
    "plt.figure(figsize=(8, 5))\n",
    "sns.boxplot(data=unemp_rate_f[[(\"Rural\", \"Person\"), (\"Urban\", \"Person\"), (\"Rural+Urban\", \"Person\")]],\n",
    "            palette=[\"blue\", \"red\", \"green\"])\n",
    "\n",
    "plt.title(\"Spread of Unemployment Rates Across States/UTs\")\n",
    "plt.ylabel(\"Unemployment Rate (%)\")\n",
    "plt.xticks(ticks=[0, 1, 2], labels=[\"Rural\", \"Urban\", \"Overall\"])\n",
    "plt.show()"
   ]
  },
  {
   "cell_type": "markdown",
   "id": "5733f3c6-c4b2-4f69-be5c-3faf0dce7c3e",
   "metadata": {},
   "source": [
    "### State-wise Comparision \n",
    "\n",
    "* Bar charts comparing unemployment rates across states\n",
    "* Highlight the states with the highest and lowest unemployment "
   ]
  },
  {
   "cell_type": "code",
   "execution_count": null,
   "id": "b543b6e5-1b4b-4f92-96a7-381bb59ca4bf",
   "metadata": {},
   "outputs": [],
   "source": [
    "unemp_rate_sorted = unemp_rate_f.sort_values(by=('Rural+Urban','Person'),ascending=False).reset_index(drop=True)\n",
    "unemp_rate_sorted.drop(36,inplace=True)\n",
    "top_state = unemp_rate_sorted.iloc[0]\n",
    "bottom_state = unemp_rate_sorted.iloc[-1]\n",
    "\n",
    "plt.figure(figsize=(12,6))\n",
    "barplot = sns.barplot(\n",
    "    data=unemp_rate_sorted,\n",
    "    y=('State/UT',''),\n",
    "    x=('Rural+Urban','Person'),\n",
    "    hue = ('Rural+Urban','Person'),\n",
    "    palette='coolwarm'\n",
    ")\n",
    "\n",
    "barplot.bar_label(barplot.containers[0], fmt='%0.1f%%',fontsize=9)\n",
    "barplot.get_yticklabels()[0].set_color('red')\n",
    "barplot.get_yticklabels()[-1].set_color('green')\n",
    "\n",
    "plt.xlabel('Unemployment Rate (%)')\n",
    "plt.ylabel('State/UT')\n",
    "plt.title('State-wise Unemployment Rate (Overall)')\n",
    "\n",
    "plt.show()"
   ]
  },
  {
   "cell_type": "markdown",
   "id": "61fb01c5-e8d4-43fa-a75c-558e0e2edadb",
   "metadata": {},
   "source": [
    "### Urban vs Rural Unemployment Trends \n",
    "\n",
    "* Compare Rural and Urban Unemployment\n",
    "  * Grouped bar chart or side by side violin plots for rural vs urban unemployment rates\n",
    "  * Line chart comparing national-level rural and urban unemployment over time (if you have time-series data).\n",
    "* Ratio of rural to urban unemployment\n",
    "  * Heatmap or scatter plot showing the rural-to-urban unemployment ratio across states."
   ]
  },
  {
   "cell_type": "code",
   "execution_count": null,
   "id": "9071d9c0-6e38-4a5a-bb9b-4057ee37d328",
   "metadata": {},
   "outputs": [],
   "source": [
    "#Grouped Bar chart \n",
    "plt.figure(figsize=(14,6))\n",
    "unemp_melted = unemp_rate_f.melt(id_vars=[('State/UT','')],\n",
    "                           value_vars=[('Rural','Person'),('Urban','Person')],\n",
    "                           var_name='Category',value_name='Unemployment Rate')\n",
    "\n",
    "sns.barplot(data=unemp_melted,\n",
    "           x=('State/UT',''),\n",
    "           y='Unemployment Rate',\n",
    "           hue='Category',\n",
    "           palette='Set2')\n",
    "plt.xticks(rotation=90)\n",
    "plt.xlabel('State/UT',fontsize=12)\n",
    "plt.ylabel('Unemployment Rate(%)',fontsize=12)\n",
    "plt.title('Urban vs Rural Unemployment Rate by State',fontsize=16,fontweight='bold')\n",
    "plt.legend(title='Category')\n",
    "plt.show()"
   ]
  },
  {
   "cell_type": "code",
   "execution_count": null,
   "id": "4a318c4f-2fa4-4fe6-865a-9adf287d58c1",
   "metadata": {},
   "outputs": [],
   "source": [
    "#Violin Plot \n",
    "plt.figure(figsize=(8,6))\n",
    "sns.violinplot(data=unemp_melted,\n",
    "              x='Category',\n",
    "              y='Unemployment Rate',\n",
    "              palette='muted',\n",
    "              hue='Category')\n",
    "plt.xlabel('Category')\n",
    "plt.ylabel('Unemployment Rate(%)')\n",
    "plt.title('Distribution of Rural vs. Urban Unemployment Rates')\n",
    "plt.show()"
   ]
  },
  {
   "cell_type": "code",
   "execution_count": null,
   "id": "1d7a8542-661d-4b76-8a68-bd213c18c4ef",
   "metadata": {},
   "outputs": [],
   "source": [
    "\n",
    "# Ensure the column names are correctly accessed\n",
    "if ('Rural', 'Person') in unemp_rate_f.columns and ('Urban', 'Person') in unemp_rate_f.columns:\n",
    "    unemp_rate_f['Ratio'] = unemp_rate_f[('Rural', 'Person')].astype(float) / unemp_rate_f[('Urban', 'Person')].astype(float)\n",
    "else:\n",
    "    raise KeyError(\"Column names ('Rural', 'Person') or ('Urban', 'Person') not found.\")\n",
    "\n",
    "# Ensure 'State/UT' is used correctly\n",
    "state_col = 'State/UT' if 'State/UT' in unemp_rate_f.columns else ('State/UT', '')  # Check if it's a multi-index\n",
    "\n",
    "# Create pivot table\n",
    "heatmap_data = unemp_rate_f.pivot_table(index=state_col, values='Ratio')\n",
    "\n",
    "# Plot heatmap\n",
    "plt.figure(figsize=(10, 6))\n",
    "sns.heatmap(heatmap_data, cmap='coolwarm', annot=True, linewidths=0.5)\n",
    "\n",
    "plt.xlabel('State/UT')\n",
    "plt.ylabel('Rural-to-Urban Unemployment Ratio')\n",
    "plt.title('Heatmap of Rural-to-Urban Unemployment Ratio by State')\n",
    "\n",
    "plt.show()"
   ]
  },
  {
   "cell_type": "code",
   "execution_count": null,
   "id": "e9d2dd2d-b4f5-4f16-a2ef-10737c0cbea8",
   "metadata": {},
   "outputs": [],
   "source": [
    "unemp_rate_f.info()"
   ]
  },
  {
   "cell_type": "code",
   "execution_count": null,
   "id": "4b11dff9-bc8a-476f-8cd3-c5f45448ece3",
   "metadata": {},
   "outputs": [],
   "source": [
    "# Scatter plot\n",
    "plt.figure(figsize=(8,6))\n",
    "sns.scatterplot(data=unemp_rate_f,\n",
    "               x=('Urban','Person'),\n",
    "               y=('Rural','Person'),\n",
    "               hue=('State/UT',''),\n",
    "               palette='coolwarm')\n",
    "plt.xlabel(\"Urban Unemployment Rate (%)\")\n",
    "plt.ylabel(\"Rural Unemployment Rate (%)\")\n",
    "plt.title(\"Scatter Plot: Rural vs. Urban Unemployment Across States\")\n",
    "plt.axline((0, 0), slope=1, color=\"gray\", linestyle=\"--\")  # Line y=x for reference\n",
    "plt.legend(title=\"State/UT\", bbox_to_anchor=(1.05, 1), loc='upper left')\n",
    "plt.show()"
   ]
  },
  {
   "cell_type": "markdown",
   "id": "ca854768-6e02-4ef5-9bcf-677698223090",
   "metadata": {},
   "source": [
    "## Gender-based Unemployment Trends\n",
    "\n",
    "* Male vs Female Unemployment\n",
    "  * Side by side bar chart for male vs female unemployment in rural and urban areas.\n",
    "  * States where female unemployment is significantly higher than male unemployment."
   ]
  },
  {
   "cell_type": "code",
   "execution_count": null,
   "id": "4454b778-7295-4bdb-a7d5-ba6d27d0f86a",
   "metadata": {},
   "outputs": [],
   "source": [
    "gender_unemp = unemp_rate_f[[('State/UT',''),('Rural','Male'),('Rural','Female'),('Urban','Male'),('Urban','Female')]].copy()\n",
    "gender_unemp.columns = ['State/UT','Rural Male','Rural Female','Urban Male','Urban Female']\n",
    "\n",
    "#melt the df\n",
    "gender_unemp_melted = gender_unemp.melt(id_vars=['State/UT'], var_name='Category', value_name='Unemployment Rate')\n",
    "\n",
    "plt.figure(figsize=(14,6))\n",
    "sns.barplot(data=gender_unemp_melted, x='State/UT',y='Unemployment Rate',hue='Category')\n",
    "plt.xticks(rotation=90)\n",
    "plt.ylabel('Unemployment Rate (%)')\n",
    "plt.xlabel('State/UT')\n",
    "plt.title('Male vs Female Unemployment in Rural and Urban Areas')\n",
    "plt.legend(title='Category')\n",
    "plt.show()\n",
    "\n",
    "# Identifying States where female unemployment is significantly higher\n",
    "gender_unemp['Rural Diff'] = (gender_unemp['Rural Female'] - gender_unemp['Rural Male'])/gender_unemp['Rural Male']\n",
    "gender_unemp['Urban Diff'] = (gender_unemp['Urban Female'] - gender_unemp['Urban Male'])/gender_unemp['Urban Male']\n",
    "\n",
    "#filter states where female unemployment is significantly higher \n",
    "threshold = 0.5\n",
    "high_female_unemp_states = gender_unemp[(gender_unemp['Rural Diff'] > threshold) | (gender_unemp['Urban Diff'] > threshold)]\n",
    "print(\"States where Female Unemployment is significantly higher than Male: \")\n",
    "print(high_female_unemp_states[['State/UT','Rural Diff','Urban Diff']])\n",
    "\n",
    "plt.figure(figsize=(10,6))\n",
    "sns.barplot(data=high_female_unemp_states.melt(id_vars=['State/UT'], value_vars=['Rural Diff','Urban Diff'], var_name='Category',value_name='Difference'),\n",
    "           x='State/UT',y='Difference',hue='Category')\n",
    "\n",
    "plt.xticks(rotation=90)\n",
    "plt.ylabel('Percentage Difference (Female - Male)')\n",
    "plt.xlabel('State/UT')\n",
    "plt.title('States where Female Unemployment is Significantly Higher than Male')\n",
    "plt.axhline(y=0.5, color='r', linestyle='--', label=\"50% Threshold\")\n",
    "plt.legend()\n",
    "plt.show()"
   ]
  },
  {
   "cell_type": "markdown",
   "id": "8efbcf0c-d9a6-49bc-a57d-03b237e3d31d",
   "metadata": {},
   "source": [
    "## Identify Anomalies & Trends \n",
    "\n",
    "* Outlier Analysis\n",
    "  * Use boxplots or scatter plots to detect states with extreme unemployment values "
   ]
  },
  {
   "cell_type": "code",
   "execution_count": null,
   "id": "bef74cc2-165b-414a-80fa-74c8c505d80c",
   "metadata": {},
   "outputs": [],
   "source": [
    "unemp_data = unemp_rate_f[[('State/UT',''),('Rural','Male'),('Rural','Female'),('Urban','Male'),('Urban','Female')]].copy()\n",
    "unemp_data.columns = ['State/UT', 'Rural Male', 'Rural Female', 'Urban Male', 'Urban Female']\n",
    "unemp_data['Overall Unemployment'] = (unemp_data['Rural Male'] + unemp_data['Rural Female'] +\n",
    "                                      unemp_data['Urban Male'] + unemp_data['Urban Female']) / 4\n",
    "\n",
    "# 1️⃣ Outlier Analysis - Boxplots\n",
    "plt.figure(figsize=(12, 6))\n",
    "sns.boxplot(data=unemp_data[['Rural Male', 'Rural Female', 'Urban Male', 'Urban Female']])\n",
    "plt.title('Boxplot of Unemployment Rates (Male vs Female in Rural & Urban)')\n",
    "plt.ylabel('Unemployment Rate (%)')\n",
    "plt.xticks(rotation=45)\n",
    "plt.show()"
   ]
  },
  {
   "cell_type": "code",
   "execution_count": null,
   "id": "d8535392-d0e2-47f4-b978-2a7aaca90cc9",
   "metadata": {},
   "outputs": [],
   "source": [
    "plt.figure(figsize=(12, 6))\n",
    "sns.scatterplot(data=unemp_data, x='State/UT', y='Overall Unemployment', hue='Overall Unemployment', palette='coolwarm', size='Overall Unemployment', sizes=(50, 200))\n",
    "plt.xticks(rotation=90)\n",
    "plt.ylabel('Unemployment Rate (%)')\n",
    "plt.xlabel('State/UT')\n",
    "plt.title('State-wise Unemployment Rate with Outliers')\n",
    "plt.show()"
   ]
  },
  {
   "cell_type": "code",
   "execution_count": null,
   "id": "9a260b16-13cc-46c4-8d38-13eae1cc9aa3",
   "metadata": {},
   "outputs": [],
   "source": [
    "Q1 = unemp_data['Overall Unemployment'].quantile(0.25)\n",
    "Q3 = unemp_data['Overall Unemployment'].quantile(0.75)\n",
    "IQR = Q3 - Q1\n",
    "outliers = unemp_data[(unemp_data['Overall Unemployment'] > (Q3 + 1.5 * IQR)) | (unemp_data['Overall Unemployment'] < (Q1 - 1.5 * IQR))]\n",
    "print(\"States with Extreme Unemployment Rates (Outliers):\")\n",
    "print(outliers[['State/UT', 'Overall Unemployment']])"
   ]
  },
  {
   "cell_type": "code",
   "execution_count": null,
   "id": "d70fc216-53a5-4a26-bfb9-83cd14177f69",
   "metadata": {},
   "outputs": [],
   "source": [
    "unemp_rate_f"
   ]
  },
  {
   "cell_type": "markdown",
   "id": "20d4388a-c398-492c-8c56-b10ed41bbea6",
   "metadata": {},
   "source": [
    "### WPR Dataset (PLFS)"
   ]
  },
  {
   "cell_type": "code",
   "execution_count": null,
   "id": "5dd3ba1c-e7c6-4160-87e1-f6e573adbba5",
   "metadata": {},
   "outputs": [],
   "source": [
    "wpr = pd.read_csv('Cleaned Data/PLFS/WPR.csv',header=None,skiprows=2)\n",
    "wpr_f = wpr[~wpr[0].str.contains('all India',case=False, na=False)]\n",
    "wpr_all = wpr[wpr[0].str.contains('all India',case=False, na=False)]"
   ]
  },
  {
   "cell_type": "code",
   "execution_count": null,
   "id": "71c5eff6-f7cf-47c8-834a-75331f2b63d0",
   "metadata": {},
   "outputs": [],
   "source": [
    "wpr_f.columns = col\n",
    "wpr_f\n"
   ]
  },
  {
   "cell_type": "code",
   "execution_count": null,
   "id": "17e11cff-ebb4-4630-8204-b623afd4492a",
   "metadata": {},
   "outputs": [],
   "source": [
    "wpr_f.info()"
   ]
  },
  {
   "cell_type": "code",
   "execution_count": null,
   "id": "246c6b36-5f82-42b3-be87-2e7bb5a19b10",
   "metadata": {},
   "outputs": [],
   "source": [
    "# Filling missing values \n",
    "wpr_f.loc[30,('Rural','Male')] = 0\n",
    "wpr_f.loc[30,('Rural','Female')] = 0\n",
    "wpr_f.loc[30,('Rural','Person')] = 0"
   ]
  },
  {
   "cell_type": "code",
   "execution_count": null,
   "id": "4937a1e5-d010-4cd3-af21-a6fafb5894bf",
   "metadata": {},
   "outputs": [],
   "source": [
    "wpr_f.info()"
   ]
  },
  {
   "cell_type": "code",
   "execution_count": null,
   "id": "3d53eae5-3e55-4faa-ac25-aca53193d50a",
   "metadata": {},
   "outputs": [],
   "source": [
    "wpr_f.describe()"
   ]
  },
  {
   "cell_type": "markdown",
   "id": "a6a6e08b-4183-4475-a897-c84971e0a4bd",
   "metadata": {},
   "source": [
    "## Gender Based Analysis\n",
    "\n",
    "### Male vs. Female WPR across states"
   ]
  },
  {
   "cell_type": "code",
   "execution_count": null,
   "id": "53c1a6b7-0ee6-49de-8fd9-d1bfe8e00146",
   "metadata": {},
   "outputs": [],
   "source": [
    "plt.figure(figsize=(12,6))\n",
    "wpr_f_sorted = wpr_f.sort_values(by=[('Rural+Urban','Person')],ascending=False)\n",
    "sns.barplot(y=wpr_f_sorted['State/UT'],x=wpr_f_sorted[('Rural+Urban','Male')],color='blue',label='Male',alpha=0.7)\n",
    "sns.barplot(y=wpr_f_sorted['State/UT'],x=wpr_f_sorted[('Rural+Urban','Female')],color='red',label='Female',alpha=0.7)\n",
    "plt.xlabel('Worker Population Ratio (%)')\n",
    "plt.ylabel('State/UT')\n",
    "plt.title(\"Worker Population Ratio by Gender\")\n",
    "plt.legend()\n",
    "plt.show()"
   ]
  },
  {
   "cell_type": "markdown",
   "id": "cd1509ca-5383-4b2f-830c-c98ef9004d81",
   "metadata": {},
   "source": [
    "## Urban vs Rural Divide"
   ]
  },
  {
   "cell_type": "code",
   "execution_count": null,
   "id": "75a6885c-bc29-4d00-8e19-9d3cc9064875",
   "metadata": {},
   "outputs": [],
   "source": [
    "wpr_f[('Rural_Urban_Diff', 'Male')] = wpr_f[('Rural', 'Male')] - wpr_f[('Urban', 'Male')]\n",
    "wpr_f[('Rural_Urban_Diff', 'Female')] = wpr_f[('Rural', 'Female')] - wpr_f[('Urban', 'Female')]\n",
    "wpr_f[('Rural_Urban_Diff', 'Person')] = wpr_f[('Rural', 'Person')] - wpr_f[('Urban', 'Person')]\n",
    "\n",
    "wpr_f"
   ]
  },
  {
   "cell_type": "code",
   "execution_count": null,
   "id": "8762799c-2e0d-4d41-ac7f-652461e9af19",
   "metadata": {
    "scrolled": true
   },
   "outputs": [],
   "source": [
    "plt.figure(figsize=(12,6))\n",
    "sns.barplot(y=wpr_f['State/UT'], x=wpr_f[('Rural_Urban_Diff','Person')], palette='RdBu')\n",
    "plt.axvline(x=0, color='black',linestyle='--')\n",
    "\n",
    "plt.title('Difference in WPR: Rural vs. Urban (Person)')\n",
    "plt.xlabel('Difference (Rural-Urban)')\n",
    "plt.ylabel('States/UT')\n",
    "plt.show()"
   ]
  },
  {
   "cell_type": "markdown",
   "id": "0d9813ec-dfbe-4ca1-ac1e-10fc62ca351c",
   "metadata": {},
   "source": [
    "## Top & Bottom 5 states "
   ]
  },
  {
   "cell_type": "code",
   "execution_count": null,
   "id": "f992e5b1-e7b4-4a5f-8cbd-43bcaef50415",
   "metadata": {},
   "outputs": [],
   "source": [
    "# Define correct column references\n",
    "state_col = ('State/UT', '')  # Ensure correct MultiIndex format\n",
    "wpr_col = ('Rural+Urban', 'Person')  # MultiIndex column\n",
    "\n",
    "# Top 5 states based on WPR (Rural+Urban)\n",
    "top_states = wpr_f.nlargest(5, wpr_col)[[state_col, wpr_col]]\n",
    "\n",
    "# Bottom 5 states based on WPR (Rural+Urban)\n",
    "bottom_states = wpr_f.nsmallest(5, wpr_col)[[state_col, wpr_col]]\n",
    "\n",
    "# Print results\n",
    "print('Top 5 states by WPR: \\n', top_states)\n",
    "print('Bottom 5 states by WPR: \\n', bottom_states)\n"
   ]
  },
  {
   "cell_type": "code",
   "execution_count": null,
   "id": "c0654465-5e0e-459a-8d99-fbc5ebb002e5",
   "metadata": {},
   "outputs": [],
   "source": [
    "wpr_f.columns.tolist()"
   ]
  },
  {
   "cell_type": "markdown",
   "id": "66a3412f-79e5-43f8-8ce4-aa8396a46673",
   "metadata": {},
   "source": [
    "## Correlation Analysis "
   ]
  },
  {
   "cell_type": "code",
   "execution_count": null,
   "id": "75cd242d-b39b-4c5f-990e-688f8a992c74",
   "metadata": {},
   "outputs": [],
   "source": [
    "corr_matrix = wpr_f.corr(numeric_only = True).drop('Rural_Urban_Diff',axis=1)\n",
    "\n",
    "plt.figure(figsize=(8,6))\n",
    "sns.heatmap(corr_matrix,annot=True,cmap='coolwarm',fmt='.2f',linewidths=0.5)\n",
    "plt.title('Correlation between Employment Types')\n",
    "plt.show()"
   ]
  },
  {
   "cell_type": "markdown",
   "id": "dbe245e6-a08b-45df-8c77-31843bddfed5",
   "metadata": {},
   "source": [
    "## Scatter Plot for Outliers\n",
    "### Checking for states where Male WPR is high but Female WPR is very low"
   ]
  },
  {
   "cell_type": "code",
   "execution_count": null,
   "id": "b71b2083-1c92-479b-a46f-90ac5b82fefc",
   "metadata": {},
   "outputs": [],
   "source": [
    "plt.figure(figsize=(8,6))\n",
    "sns.scatterplot(x=wpr_f['Rural+Urban','Male'], y=wpr_f['Rural+Urban','Female'], hue=wpr_f['State/UT'], palette='coolwarm',s=100)\n",
    "plt.axline((0,0), slope=1, color=\"black\", linestyle=\"--\")  # Reference line for equal WPR\n",
    "plt.xlabel(\"Male WPR\")\n",
    "plt.ylabel(\"Female WPR\")\n",
    "plt.title(\"Gender-Based WPR Comparison\")\n",
    "plt.legend(title=\"State/UT\", bbox_to_anchor=(1.05, 1), loc='upper left')\n",
    "plt.show()"
   ]
  },
  {
   "cell_type": "markdown",
   "id": "acfa63fc-64cd-44fa-a0e2-13b9587545c7",
   "metadata": {},
   "source": [
    "### All values are below the line which indicates there is a severe gender gap in workforce population"
   ]
  },
  {
   "cell_type": "code",
   "execution_count": null,
   "id": "9bfc90d2-5e5c-48dd-b5fe-0f2f3eda07c8",
   "metadata": {},
   "outputs": [],
   "source": [
    "lfpr_15_29 = pd.read_csv('Cleaned Data/PLFS/LFPR_15_29.csv',header=None,skiprows=2)\n",
    "lfpr_15_29.head()"
   ]
  },
  {
   "cell_type": "code",
   "execution_count": null,
   "id": "9c58e856-1dbc-4ed8-98a4-aa9ba4876d00",
   "metadata": {},
   "outputs": [],
   "source": [
    "lfpr_15_29_f = lfpr_15_29[~lfpr_15_29[0].str.contains('all India',case=False, na=False)]\n"
   ]
  },
  {
   "cell_type": "code",
   "execution_count": null,
   "id": "975ecc86-d314-4e82-966c-0b818e6b6451",
   "metadata": {},
   "outputs": [],
   "source": [
    "lfpr_15_29_f"
   ]
  },
  {
   "cell_type": "code",
   "execution_count": null,
   "id": "f2a4bd91-7d30-4f4e-951c-6979eb161866",
   "metadata": {},
   "outputs": [],
   "source": [
    "col = pd.MultiIndex.from_tuples([\n",
    "    ('State/UT',''),\n",
    "    ('Rural','Male'),('Rural','Female'),('Rural','Person'),\n",
    "    ('Urban','Male'),('Urban','Female'),('Urban','Person'),\n",
    "    ('Rural+Urban','Male'),('Rural+Urban','Female'),('Rural+Urban','Person')\n",
    "])"
   ]
  },
  {
   "cell_type": "code",
   "execution_count": null,
   "id": "15761fd7-0bff-4546-ae71-3ae0651ff71e",
   "metadata": {},
   "outputs": [],
   "source": [
    "lfpr_15_29_f.columns = col"
   ]
  },
  {
   "cell_type": "code",
   "execution_count": null,
   "id": "2f28bdb7-f3a7-4cd8-b13f-67a86063a37e",
   "metadata": {},
   "outputs": [],
   "source": [
    "lfpr_15_29_f.head()"
   ]
  },
  {
   "cell_type": "code",
   "execution_count": null,
   "id": "644929e7-43c3-476b-b036-2145972d5b56",
   "metadata": {},
   "outputs": [],
   "source": [
    "lfpr_15_29_f.loc[30,('Rural','Male')] = 0\n",
    "lfpr_15_29_f.loc[30,('Rural','Female')] = 0\n",
    "lfpr_15_29_f.loc[30,('Rural','Person')] = 0"
   ]
  },
  {
   "cell_type": "code",
   "execution_count": null,
   "id": "7ce5785b-b0a7-4102-909d-6827dd1d0fa9",
   "metadata": {},
   "outputs": [],
   "source": [
    "lfpr_15_59 = pd.read_csv('Cleaned Data/PLFS/LFPR_15_59.csv',header=None,skiprows=2)\n",
    "\n",
    "lfpr_15_59_f = lfpr_15_59[~lfpr_15_59[0].str.contains('all India',case=False,na=False)]\n",
    "\n",
    "lfpr_15_59_f.columns = col\n",
    "\n",
    "lfpr_15_59_f.loc[30,('Rural','Male')] = 0\n",
    "lfpr_15_59_f.loc[30,('Rural','Female')] = 0\n",
    "lfpr_15_59_f.loc[30,('Rural','Person')] = 0"
   ]
  },
  {
   "cell_type": "code",
   "execution_count": null,
   "id": "4c0878c9-64c6-422d-b655-79d7542f9739",
   "metadata": {},
   "outputs": [],
   "source": [
    "lfpr_15_above = pd.read_csv('Cleaned Data/PLFS/LFPR_15_above.csv',header=None,skiprows=2)\n",
    "\n",
    "lfpr_15_above_f = lfpr_15_above[~lfpr_15_above[0].str.contains('all India',case=False,na=False)]\n",
    "\n",
    "lfpr_15_above_f.columns = col\n",
    "\n",
    "lfpr_15_above_f.loc[30,('Rural','Male')] = 0\n",
    "lfpr_15_above_f.loc[30,('Rural','Female')] = 0\n",
    "lfpr_15_above_f.loc[30,('Rural','Person')] = 0"
   ]
  },
  {
   "cell_type": "code",
   "execution_count": null,
   "id": "81d1acbc-5117-4c59-8aac-3ab5e5575c23",
   "metadata": {},
   "outputs": [],
   "source": [
    "lfpr_all_ages = pd.read_csv('Cleaned Data/PLFS/LFPR_all_ages.csv',header=None,skiprows=2)\n",
    "\n",
    "lfpr_all_ages_f = lfpr_all_ages[~lfpr_all_ages[0].str.contains('all India',case=False,na=False)]\n",
    "\n",
    "lfpr_all_ages_f.columns = col\n",
    "\n",
    "lfpr_all_ages_f.loc[30,('Rural','Male')] = 0\n",
    "lfpr_all_ages_f.loc[30,('Rural','Female')] = 0\n",
    "lfpr_all_ages_f.loc[30,('Rural','Person')] = 0"
   ]
  },
  {
   "cell_type": "code",
   "execution_count": null,
   "id": "9e210698-6c18-4246-97d9-ed39f799edc9",
   "metadata": {},
   "outputs": [],
   "source": [
    "frames = [lfpr_15_29_f,lfpr_15_59_f,lfpr_15_above_f,lfpr_all_ages_f]\n",
    "lfpr_res = pd.concat(frames)"
   ]
  },
  {
   "cell_type": "code",
   "execution_count": null,
   "id": "e029479f-360a-4059-9d83-264d8ff57f6c",
   "metadata": {},
   "outputs": [],
   "source": [
    "lfpr_res.reset_index(drop=True,inplace=True)"
   ]
  },
  {
   "cell_type": "code",
   "execution_count": null,
   "id": "13100435-e9dd-4504-866a-7ffad9e233ab",
   "metadata": {},
   "outputs": [],
   "source": [
    "lfpr_res"
   ]
  },
  {
   "cell_type": "code",
   "execution_count": null,
   "id": "0a371ea4-f1f8-4f47-8384-63e5d2ad1086",
   "metadata": {},
   "outputs": [],
   "source": [
    "lfpr_res.iloc[0:36]"
   ]
  },
  {
   "cell_type": "code",
   "execution_count": null,
   "id": "af104be1-af72-4ac4-8e99-d8e5e508df5e",
   "metadata": {},
   "outputs": [],
   "source": [
    "categories = ['15-29 Age','15-59 Age','15 and above Age','All Ages'] * 9\n",
    "\n",
    "rows_per_set = 36\n",
    "\n",
    "category_col = [categories[i // rows_per_set] for i in range(len(lfpr_res))]\n",
    "lfpr_res['Age Category'] = category_col\n",
    "lfpr_res"
   ]
  },
  {
   "cell_type": "markdown",
   "id": "6df2f18a-af4d-429d-a9cf-318e101e1a8b",
   "metadata": {},
   "source": [
    "# HCES "
   ]
  },
  {
   "cell_type": "markdown",
   "id": "86db6c23-d5ca-48af-9ee6-d8a7ccf01938",
   "metadata": {},
   "source": [
    "## 1. Absolute and percentage breakup of MPCE by item-groups in 2023-24 All India"
   ]
  },
  {
   "cell_type": "code",
   "execution_count": null,
   "id": "3adf1b56-8e93-4943-ac05-8d2e566c7ff4",
   "metadata": {},
   "outputs": [],
   "source": [
    "ab_perc_mpce = pd.read_csv('Cleaned Data/HCES/Abs_Perc_MPCE.csv',header=None,skiprows=2)\n",
    "ab_perc_mpce.reset_index(drop=True,inplace=True)"
   ]
  },
  {
   "cell_type": "code",
   "execution_count": null,
   "id": "a9cb14bd-0407-4eb8-b3c4-8da9c24bdf52",
   "metadata": {},
   "outputs": [],
   "source": [
    "ab_perc_mpce = ab_perc_mpce.drop(0,axis=1)"
   ]
  },
  {
   "cell_type": "code",
   "execution_count": null,
   "id": "a82cf139-d024-4f96-ac03-72afd5453373",
   "metadata": {},
   "outputs": [],
   "source": [
    "cols = pd.MultiIndex.from_tuples([\n",
    "    ('Item group',''),\n",
    "    ('MPCE(Rs.)','Rural'),('MPCE(Rs.)','Urban'),\n",
    "    ('% share in total MPCE','Rural'),('% share in total MPCE','Urban')\n",
    "])\n",
    "ab_perc_mpce.columns = cols"
   ]
  },
  {
   "cell_type": "code",
   "execution_count": null,
   "id": "695bff43-9f34-4f47-9bd1-e8ed24b2c844",
   "metadata": {},
   "outputs": [],
   "source": [
    "ab_perc_mpce"
   ]
  },
  {
   "cell_type": "code",
   "execution_count": null,
   "id": "6ca58179-7675-435a-8091-7de283b973dc",
   "metadata": {},
   "outputs": [],
   "source": [
    "ab_perc_mpceF = ab_perc_mpce[~ab_perc_mpce['Item group'].str.contains('all items',case=False,na=False)]\n",
    "ab_perc_mpceA = ab_perc_mpce[ab_perc_mpce['Item group'].str.contains('all items',case=False,na=False)]"
   ]
  },
  {
   "cell_type": "markdown",
   "id": "0868f8ae-182d-4e83-8b60-4a90a9d40ae0",
   "metadata": {},
   "source": [
    "## Analysis\n",
    "### 1. Food vs. Non-Food Expenditure (Essentials vs. Discretionary Spending)"
   ]
  },
  {
   "cell_type": "code",
   "execution_count": null,
   "id": "d062c045-fcdc-4917-82d2-41b54c7f4860",
   "metadata": {},
   "outputs": [],
   "source": [
    "data = {\n",
    "    'Category':['Food','Non-Food'],\n",
    "    \"Rural\": [1939,2183],\n",
    "    'Urban': [2776,4220]\n",
    "}\n",
    "df = pd.DataFrame(data)\n",
    "\n",
    "fig,axes = plt.subplots(1,2,figsize=(12,6))\n",
    "\n",
    "#Rural Pie Chart\n",
    "axes[0].pie(df['Rural'],labels=df['Category'],autopct='%0.1f%%',colors=[\"#66b3ff\", \"#ff9999\"])\n",
    "axes[0].set_title('Rural: Food vs. Non-Food Expenditure')\n",
    "\n",
    "#Urban Pie Chart\n",
    "axes[1].pie(df['Urban'],labels=df['Category'],autopct='%0.1f%%',colors=[\"#66b3ff\", \"#ff9999\"])\n",
    "axes[1].set_title('Urban: Food vs. Non-Food Expenditure')\n",
    "plt.legend()\n",
    "plt.show()"
   ]
  },
  {
   "cell_type": "markdown",
   "id": "99649a69-6e62-4f39-8428-7815b1eb5f42",
   "metadata": {},
   "source": [
    "### Food spending percentage is higher in rural areas. It suggests they spend more on necessities.\n",
    "\n",
    "### Urban areas spend more on non food, it shows a shift towards discretionary and service-based epenses."
   ]
  },
  {
   "cell_type": "markdown",
   "id": "4090102c-e75a-47c0-8f5f-1591a39f9d16",
   "metadata": {},
   "source": [
    "### 2. Major Spending Categories (Top 5 in Rural & Urban)"
   ]
  },
  {
   "cell_type": "code",
   "execution_count": null,
   "id": "b8307707-80ff-4685-a038-3aa13da9dc21",
   "metadata": {},
   "outputs": [],
   "source": [
    "df = ab_perc_mpceF[~ab_perc_mpceF['Item group'].isin(['food total','non-food total'])]\n",
    "df"
   ]
  },
  {
   "cell_type": "code",
   "execution_count": null,
   "id": "bff76460-0b08-46eb-a282-c0fcd45734e2",
   "metadata": {},
   "outputs": [],
   "source": [
    "top5_rural = df.nlargest(10, ('MPCE(Rs.)',\"Rural\"))\n",
    "top5_urban = df.nlargest(10, ('MPCE(Rs.)','Urban'))"
   ]
  },
  {
   "cell_type": "code",
   "execution_count": null,
   "id": "d14d26b1-e39f-4956-8846-42a314332679",
   "metadata": {},
   "outputs": [],
   "source": [
    "fig, axes = plt.subplots(1,2,figsize=(14,6))\n",
    "\n",
    "#Rural Plot \n",
    "axes[0].barh(top5_rural['Item group'], top5_rural[('MPCE(Rs.)','Rural')],color=\"#66b3ff\")\n",
    "axes[0].set_title('Top 10 spending Categories (Rural)')\n",
    "axes[0].invert_yaxis()\n",
    "axes[0].set_xlabel('MPCE (Rs.)')\n",
    "\n",
    "#Urban Plot\n",
    "axes[1].barh(top5_urban['Item group'], top5_urban[('MPCE(Rs.)','Urban')], color=\"#ff9999\")\n",
    "axes[1].set_title(\"Top 10 Spending Cateogries (Urban)\")\n",
    "axes[1].invert_yaxis()\n",
    "axes[1].set_xlabel('MPCE (Rs.)')\n",
    "\n",
    "plt.tight_layout()\n",
    "plt.show()"
   ]
  },
  {
   "cell_type": "markdown",
   "id": "aa84685f-583e-4f95-99c1-3259e9312a78",
   "metadata": {},
   "source": [
    "### Top 1 Spending Categories is same for both Rural & Urban"
   ]
  },
  {
   "cell_type": "markdown",
   "id": "c2185071-393f-458e-8fdc-c88cf40e563c",
   "metadata": {},
   "source": [
    "### 3. Rent, Education and Medical Expenditure Comparisiion"
   ]
  },
  {
   "cell_type": "code",
   "execution_count": null,
   "id": "0d95421f-4f9d-44de-ad86-a8e1e4479b39",
   "metadata": {},
   "outputs": [],
   "source": [
    "categories = ['rent','education','medical']\n",
    "df_selected = ab_perc_mpceF[ab_perc_mpceF['Item group'].isin(categories)]\n",
    "\n",
    "x = np.arange(len(categories))\n",
    "width = 0.3\n",
    "\n",
    "fig,ax = plt.subplots(figsize=(8,6))\n",
    "\n",
    "bars1 = ax.bar(x-width/2, df_selected[('MPCE(Rs.)','Rural')],width,label='Rural',color=\"#66b3ff\",edgecolor='black')\n",
    "bars2 = ax.bar(x+width/2,df_selected[('MPCE(Rs.)','Urban')],width,label='Urban',color='#ff9999',edgecolor='black')\n",
    "\n",
    "ax.set_xticks(x)\n",
    "ax.set_xticklabels(categories,fontsize=12)\n",
    "ax.set_ylabel('MPCE (Rs.)')\n",
    "ax.set_title('Comparision of Rent, Education, and Medical Expenditure')\n",
    "ax.legend()\n",
    "\n",
    "#display values on top of bars\n",
    "for bars in [bars1, bars2]:\n",
    "    for bar in bars:\n",
    "        height = bar.get_height()\n",
    "        ax.annotate(f'{height:.0f}', xy=(bar.get_x() + bar.get_width()/2, height),\n",
    "                    xytext=(0, 3), textcoords=\"offset points\", ha='center', fontsize=10)\n",
    "\n",
    "# Show plot\n",
    "plt.show()"
   ]
  },
  {
   "cell_type": "markdown",
   "id": "2dbe1f65-3681-4a51-a593-49ed13daf2c8",
   "metadata": {},
   "source": [
    "### 4. Essential vs Luxury Spending Breakdown"
   ]
  },
  {
   "cell_type": "code",
   "execution_count": null,
   "id": "9d854c57-a5bb-4030-8bcb-8f1db6be3038",
   "metadata": {},
   "outputs": [],
   "source": [
    "# Define essential & luxury categories\n",
    "essential_items = [\"food total\", \"fuel and light\", \"medical\", \"education\", \"clothing, bedding & footwear\", \"rent\"]\n",
    "luxury_items = [\"misc. goods, entertainment\", \"consumer services excluding conveyance\", \"pan, tobacco & intoxicants\", \n",
    "                \"beverages, refreshments, processed food#\", \"conveyance\", \"taxes and cesses\", \"durable goods\"]\n",
    "\n",
    "# Compute total spending in each category\n",
    "essential_rural = df[df[\"Item group\"].isin(essential_items)][('MPCE(Rs.)',\"Rural\")].sum()\n",
    "luxury_rural = df[df[\"Item group\"].isin(luxury_items)][('MPCE(Rs.)',\"Rural\")].sum()\n",
    "essential_urban = df[df[\"Item group\"].isin(essential_items)][('MPCE(Rs.)',\"Urban\")].sum()\n",
    "luxury_urban = df[df[\"Item group\"].isin(luxury_items)][('MPCE(Rs.)',\"Urban\")].sum()\n",
    "\n",
    "# Create DataFrame for visualization\n",
    "data = {\n",
    "    \"Category\": [\"Rural\", \"Urban\"],\n",
    "    \"Essential\": [essential_rural, essential_urban],\n",
    "    \"Luxury\": [luxury_rural, luxury_urban]\n",
    "}\n",
    "df_vis = pd.DataFrame(data)\n",
    "\n",
    "# Plot Stacked Bar Chart\n",
    "fig, ax = plt.subplots(figsize=(7, 5))\n",
    "ax.bar(df_vis[\"Category\"], df_vis[\"Essential\"], label=\"Essential Spending\", color=\"#66b3ff\")\n",
    "ax.bar(df_vis[\"Category\"], df_vis[\"Luxury\"], bottom=df_vis[\"Essential\"], label=\"Luxury Spending\", color=\"#ff9999\")\n",
    "\n",
    "# Labels & Title\n",
    "ax.set_ylabel(\"MPCE (Rs.)\")\n",
    "ax.set_title(\"Essential vs. Luxury Spending Breakdown\")\n",
    "ax.legend()\n",
    "\n",
    "# Show values on bars\n",
    "for i, row in df_vis.iterrows():\n",
    "    ax.text(i, row[\"Essential\"] / 2, f\"{row['Essential']:.0f}\", ha=\"center\", va=\"center\", color=\"white\", fontsize=10)\n",
    "    ax.text(i, row[\"Essential\"] + row[\"Luxury\"] / 2, f\"{row['Luxury']:.0f}\", ha=\"center\", va=\"center\", color=\"white\", fontsize=10)\n",
    "\n",
    "# Show plot\n",
    "plt.show()"
   ]
  },
  {
   "cell_type": "markdown",
   "id": "bd658c98-f5d2-4f85-b345-efec4d03ea1f",
   "metadata": {},
   "source": [
    "## Average MPCE and share of food and non food "
   ]
  },
  {
   "cell_type": "code",
   "execution_count": null,
   "id": "ac89a4e9-976b-4ced-8536-1b9dc0895ce6",
   "metadata": {},
   "outputs": [],
   "source": [
    "avg_mpce = pd.read_csv('Cleaned Data/HCES/Avg_MPCE.csv',header=None,skiprows=2)"
   ]
  },
  {
   "cell_type": "code",
   "execution_count": null,
   "id": "553fcc11-7820-4609-a40c-ecf7a170fafe",
   "metadata": {},
   "outputs": [],
   "source": [
    "avg_mpce.drop(0,axis=1,inplace=True)"
   ]
  },
  {
   "cell_type": "code",
   "execution_count": null,
   "id": "6d872947-0fe7-4914-97b7-5ac7ac09872e",
   "metadata": {},
   "outputs": [],
   "source": [
    "c = pd.MultiIndex.from_tuples([\n",
    "    ('Item group',''),\n",
    "    ('Rural India','Average MPCE(Rs.)'),('Rural India','Share in MPCE(%)'),\n",
    "    ('Urban India','Average MPCE(Rs.)'),('Urban India','Share in MPCE(%)')\n",
    "])\n",
    "avg_mpce.columns = c"
   ]
  },
  {
   "cell_type": "code",
   "execution_count": null,
   "id": "e820f15c-2a96-4141-8755-9006ba640f72",
   "metadata": {},
   "outputs": [],
   "source": [
    "avg_mpce"
   ]
  },
  {
   "cell_type": "code",
   "execution_count": null,
   "id": "8d0a0227-68eb-49b9-a098-dd1043e53c47",
   "metadata": {},
   "outputs": [],
   "source": [
    "categories = [\"Rural India\", \"Urban India\"]\n",
    "food_expense = [47.04, 39.68]  # Share in MPCE (%)\n",
    "non_food_expense = [52.96, 60.32]  # Share in MPCE (%)\n",
    "\n",
    "# Plot\n",
    "fig, ax = plt.subplots(figsize=(6, 5))\n",
    "bars1 = ax.bar(categories, food_expense, label=\"Food\", color=\"#66b3ff\")\n",
    "bars2 = ax.bar(categories, non_food_expense, bottom=food_expense, label=\"Non-Food\", color=\"#ff9999\")\n",
    "\n",
    "# Labels\n",
    "ax.set_ylabel(\"Share in MPCE (%)\")\n",
    "ax.set_title(\"Food vs. Non-Food Expenditure Share\")\n",
    "ax.legend()\n",
    "\n",
    "# Show values on bars\n",
    "for bars in [bars1, bars2]:\n",
    "    for bar in bars:\n",
    "        height = bar.get_height()\n",
    "        ax.text(bar.get_x() + bar.get_width()/2, bar.get_y() + height/2, f\"{height:.1f}%\", \n",
    "                ha='center', va='center', color=\"white\", fontsize=10)\n",
    "\n",
    "# Show plot\n",
    "plt.show()"
   ]
  },
  {
   "cell_type": "markdown",
   "id": "4362b59b-5218-44f5-bdae-3dc702974eea",
   "metadata": {},
   "source": [
    "## Average MPCE for each state"
   ]
  },
  {
   "cell_type": "code",
   "execution_count": null,
   "id": "3bdcf3bc-6022-4c8f-b240-42e47b2c4416",
   "metadata": {},
   "outputs": [],
   "source": [
    "avg_MPCE_state = pd.read_csv('Cleaned Data/HCES/Avg_MPCE_State.csv',header=None,skiprows=2)"
   ]
  },
  {
   "cell_type": "code",
   "execution_count": null,
   "id": "75d60a73-8c5e-41da-8be3-1280a92455c9",
   "metadata": {},
   "outputs": [],
   "source": [
    "avg_MPCE_state"
   ]
  },
  {
   "cell_type": "code",
   "execution_count": null,
   "id": "d4f28352-f782-4ea8-a49c-89225da8927f",
   "metadata": {},
   "outputs": [],
   "source": [
    "avg_MPCE_stateF = avg_MPCE_state[~avg_MPCE_state[1].str.contains('All-India',case=False,na=False)]"
   ]
  },
  {
   "cell_type": "code",
   "execution_count": null,
   "id": "8f4843a2-f613-4472-8310-0ae3950ce0bf",
   "metadata": {},
   "outputs": [],
   "source": [
    "avg_MPCE_stateF.drop(0,axis=1,inplace=True)"
   ]
  },
  {
   "cell_type": "code",
   "execution_count": null,
   "id": "219a9892-209c-4f04-9565-b0c7833f8a7f",
   "metadata": {},
   "outputs": [],
   "source": [
    "col = pd.MultiIndex.from_tuples([\n",
    "    ('State/UT',''),\n",
    "    ('Average MPCE(Rs.)','Rural'),('Average MPCE(Rs.)','Urban')\n",
    "])\n",
    "avg_MPCE_stateF.columns = col"
   ]
  },
  {
   "cell_type": "code",
   "execution_count": null,
   "id": "3b9b3deb-fc71-4eaa-9c69-d5996cf8027b",
   "metadata": {},
   "outputs": [],
   "source": [
    "avg_MPCE_stateF"
   ]
  },
  {
   "cell_type": "markdown",
   "id": "d6f349a4-a4cb-40a4-bae0-17a8982709ad",
   "metadata": {},
   "source": [
    "### 1. Top 10 States with highest MPCE (Rural & Urban)\n"
   ]
  },
  {
   "cell_type": "code",
   "execution_count": null,
   "id": "c3ef490b-e083-410e-af4d-e6b305971d93",
   "metadata": {},
   "outputs": [],
   "source": [
    "df_rural_top10 = avg_MPCE_stateF.nlargest(10,('Average MPCE(Rs.)','Rural'))\n",
    "df_urban_top10 = avg_MPCE_stateF.nlargest(10, ('Average MPCE(Rs.)','Urban'))\n",
    "\n",
    "fig, axes = plt.subplots(1, 2, figsize=(15, 6))\n",
    "\n",
    "df_rural_top10.plot(kind='barh', x='State/UT', y=('Average MPCE(Rs.)','Rural'), ax=axes[0], color='skyblue', legend=False)\n",
    "axes[0].set_xlabel(\"Average MPCE (Rs.)\")\n",
    "axes[0].set_title(\"Top 10 States with Highest Rural MPCE\")\n",
    "\n",
    "df_urban_top10.plot(kind='barh', x='State/UT', y=('Average MPCE(Rs.)','Urban'), ax=axes[1], color='orange', legend=False)\n",
    "axes[1].set_xlabel(\"Average MPCE (Rs.)\")\n",
    "axes[1].set_title(\"Top 10 States with Highest Urban MPCE\")\n",
    "\n",
    "plt.tight_layout()\n",
    "plt.show()"
   ]
  },
  {
   "cell_type": "code",
   "execution_count": null,
   "id": "3440d302-1a16-4501-bc76-cf71cb5765b1",
   "metadata": {},
   "outputs": [],
   "source": [
    "avg_MPCE_stateF['MPCE Difference'] = avg_MPCE_stateF[('Average MPCE(Rs.)','Urban')] - avg_MPCE_stateF[('Average MPCE(Rs.)','Rural')]\n",
    "\n",
    "avg_sorted = avg_MPCE_stateF.sort_values(by='MPCE Difference',ascending=False)\n",
    "plt.figure(figsize=(12, 6))\n",
    "plt.barh(avg_sorted[\"State/UT\"], avg_sorted[\"MPCE Difference\"], color=\"purple\")\n",
    "plt.xlabel(\"Urban - Rural MPCE Difference (Rs.)\")\n",
    "plt.ylabel(\"State/UT\")\n",
    "plt.title(\"Biggest Gaps in Rural vs. Urban MPCE\")\n",
    "plt.gca().invert_yaxis()  # To show the largest difference at the top\n",
    "\n",
    "plt.show()"
   ]
  },
  {
   "cell_type": "code",
   "execution_count": null,
   "id": "7629ddd6-d2c4-405e-b0aa-3c77e2120b36",
   "metadata": {},
   "outputs": [],
   "source": [
    "import json\n",
    "avg_MPCE_stateF[\"Total_MPCE\"] = (avg_MPCE_stateF[('Average MPCE(Rs.)',\"Rural\")] + avg_MPCE_stateF[('Average MPCE(Rs.)',\"Urban\")]) / 2  # Average of Rural & Urban\n",
    "\n",
    "# Load the GeoJSON file for India states\n",
    "with open(\"india_state_geo.json\", \"r\") as f:\n",
    "    india_states = json.load(f)\n",
    "\n",
    "# Ensure state names in both data and GeoJSON match\n",
    "avg_MPCE_stateF[\"State/UT\"] = avg_MPCE_stateF[\"State/UT\"].str.title()"
   ]
  },
  {
   "cell_type": "code",
   "execution_count": null,
   "id": "282aa3fe-1870-445c-9b84-2cc45a27d2f7",
   "metadata": {},
   "outputs": [],
   "source": [
    "avg_MPCE_stateF.head(2)"
   ]
  },
  {
   "cell_type": "code",
   "execution_count": null,
   "id": "fa346585-16dd-4708-8613-1880850d7e15",
   "metadata": {},
   "outputs": [],
   "source": [
    "avg_MPCE_stateF_copy = avg_MPCE_stateF.copy()\n",
    "avg_MPCE_stateF_copy.columns = ['_'.join(col).strip() if isinstance(col, tuple) else col for col in avg_MPCE_stateF.columns]\n",
    "avg_MPCE_stateF_copy.head(2)"
   ]
  },
  {
   "cell_type": "code",
   "execution_count": null,
   "id": "3dd8fcb3-1205-422b-aae5-51fb99c31e89",
   "metadata": {},
   "outputs": [],
   "source": [
    "import plotly.express as px\n",
    "fig = px.choropleth(\n",
    "    avg_MPCE_stateF_copy,\n",
    "    geojson = india_states,\n",
    "    locations = 'State/UT_',\n",
    "    featureidkey = 'properties.NAME_1',\n",
    "    color = 'Total_MPCE_',\n",
    "    color_continuous_scale = px.colors.sequential.Viridis,\n",
    "    range_color =[avg_MPCE_stateF_copy['Total_MPCE_'].min(), avg_MPCE_stateF_copy['Total_MPCE_'].max()],\n",
    "    title='State-wise MPCE in India'\n",
    ")\n",
    "\n",
    "fig.update_geos(fitbounds='locations',visible=False)\n",
    "fig.update_layout(margin={'r':0, 't':30, 'l':0, 'b':0})\n",
    "fig.update_layout(transition={'duration':0})\n",
    "fig.show()"
   ]
  },
  {
   "cell_type": "markdown",
   "id": "2fb777a8-13db-4a0b-9a72-133387af6d2a",
   "metadata": {},
   "source": [
    "### Trend in Cereal and Food (HCES)"
   ]
  },
  {
   "cell_type": "code",
   "execution_count": null,
   "id": "bf4a5817-0af1-4614-9432-621ef7c8c52c",
   "metadata": {},
   "outputs": [],
   "source": [
    "trend_food = pd.read_csv('Cleaned Data/HCES/Trend_cereal_food.csv',header=None,skiprows=2)\n",
    "trend_food"
   ]
  },
  {
   "cell_type": "code",
   "execution_count": null,
   "id": "9e7de215-9cf3-4e1e-a036-4c1c1b834fc7",
   "metadata": {},
   "outputs": [],
   "source": [
    "trend_food = trend_food.drop(0,axis=1)\n",
    "col = pd.MultiIndex.from_tuples([\n",
    "    ('Period',''),\n",
    "    ('Rural','%share of cereals in avg.'),('Rural','%share of food in avg.'),\n",
    "    ('Urban','%share of cereals in avg.'),('Urban','%share of food in avg.')\n",
    "])\n",
    "trend_food.columns = col\n",
    "trend_food"
   ]
  },
  {
   "cell_type": "markdown",
   "id": "34f4bfef-6c05-43f0-acd8-d920c180dfe3",
   "metadata": {},
   "source": [
    "### Insights:\n",
    "\n",
    "* `Declining trend in cereal share:`  The share of cereals in MPCE has consistently decreased from 2011-12 to 2023-24 in both rural (10.75% → 4.99%) and urban (6.66% → 3.76%) areas.\n",
    "* `Declining share of food overall:` The total food share in MPCE has also reduced over time, indicating a possible shift in expenditure patterns towards non-food items.\n",
    "* `Rural vs Urban Differences:`\n",
    "  * Rural areas have always had a higher share of cereals in MPCE compared to urban areas.\n",
    "  * The drop in cereal share is sharper in rural areas, possibly due to dietary diversification.\n",
    "  * Urban areas show a more gradual decline in both cereals and food share."
   ]
  },
  {
   "cell_type": "code",
   "execution_count": null,
   "id": "b96dd6d1-b759-4c29-99dc-e3e2e1278ba0",
   "metadata": {},
   "outputs": [],
   "source": [
    "trend_food.columns\n",
    "trend_food_copy = trend_food.copy()\n",
    "trend_food_copy.columns = ['Period','Rural_Cereal','Rural_Food','Urban_Cereal','Urban_Food']"
   ]
  },
  {
   "cell_type": "markdown",
   "id": "643f80be-bb2e-4fe0-a71b-d5706e2a1190",
   "metadata": {},
   "source": [
    "### Trend over time"
   ]
  },
  {
   "cell_type": "code",
   "execution_count": null,
   "id": "a2153b68-e9bb-4885-b0c1-86b87fd01a1f",
   "metadata": {},
   "outputs": [],
   "source": [
    "plt.figure(figsize=(10,5))\n",
    "sns.lineplot(x='Period',y='Rural_Cereal',data=trend_food_copy,marker='o',label='Cereal (Rural)')\n",
    "sns.lineplot(x='Period',y='Urban_Cereal',data=trend_food_copy,marker='o',label='Cereal (Urban')\n",
    "sns.lineplot(x='Period',y='Rural_Food',data=trend_food_copy,marker='o',label='Food (Rural)')\n",
    "sns.lineplot(x='Period',y='Urban_Food',data=trend_food_copy,marker='o',label='Food (Urban)')\n",
    "plt.xlabel('Year')\n",
    "plt.ylabel('Percentage Share')\n",
    "plt.title('Trends in Share of Cereal and Food Items in MPCE')\n",
    "plt.legend()\n",
    "plt.grid(True)\n",
    "plt.show()"
   ]
  },
  {
   "cell_type": "markdown",
   "id": "cea95d44-a997-434b-8d7c-10b8e2211e65",
   "metadata": {},
   "source": [
    "### Rural vs. Urban Comparision (Bar chart)"
   ]
  },
  {
   "cell_type": "code",
   "execution_count": null,
   "id": "40bf727a-40f4-43e5-b1bc-a706fa913a98",
   "metadata": {},
   "outputs": [],
   "source": [
    "fig, ax = plt.subplots(1,2,figsize=(12,5))\n",
    "\n",
    "sns.barplot(x='Period',y='Rural_Cereal',data=trend_food_copy, ax=ax[0],color='blue',label='Rural')\n",
    "sns.barplot(x='Period',y='Urban_Cereal',data=trend_food_copy,ax=ax[0],color='red',alpha=0.7,label='Urban')\n",
    "ax[0].set_title('Cereal Share: Rural vs. Urban')\n",
    "ax[0].set_ylabel('% Share of Cereal')\n",
    "ax[0].legend\n",
    "\n",
    "sns.barplot(x='Period',y='Rural_Food',data=trend_food_copy,ax=ax[1],color='blue',label='Rural')\n",
    "sns.barplot(x='Period',y='Urban_Food',data=trend_food_copy,ax=ax[1],color='red',alpha=0.7,label='Urban')\n",
    "ax[1].set_title('Food Share: Rural vs Urban')\n",
    "ax[1].set_ylabel('% Share of Food')\n",
    "ax[1].legend()\n",
    "\n",
    "plt.tight_layout()\n",
    "plt.show()\n"
   ]
  },
  {
   "cell_type": "markdown",
   "id": "efb2f540-0e92-41b2-bafa-5b590b707568",
   "metadata": {},
   "source": [
    "### Percentage Decline Calculation "
   ]
  },
  {
   "cell_type": "code",
   "execution_count": null,
   "id": "50f3d862-72bb-48ec-b8d7-1be8e405b87a",
   "metadata": {},
   "outputs": [],
   "source": [
    "def percentage_decline(initial, final):\n",
    "    return round(((initial-final)/initial)*100,2)\n",
    "\n",
    "cereal_rural_decline = percentage_decline(10.75,4.99)\n",
    "cereal_urban_decline = percentage_decline(6.66, 3.76)\n",
    "food_rural_decline = percentage_decline(52.90, 47.04)\n",
    "food_urban_decline = percentage_decline(42.62, 39.68)\n",
    "\n",
    "print(f\"Percentage decline in cereal consumption (Rural): {cereal_rural_decline}%\")\n",
    "print(f\"Percentage decline in cereal consumption (Urban): {cereal_urban_decline}%\")\n",
    "print(f\"Percentage decline in food consumption (Rural): {food_rural_decline}%\")\n",
    "print(f\"Percentage decline in food consumption (Urban): {food_urban_decline}%\")"
   ]
  },
  {
   "cell_type": "markdown",
   "id": "c09dc1b2-fbf1-4c7c-aa97-1af30ac8007a",
   "metadata": {},
   "source": [
    "## Trend in level of Consumption since 2011-12 All-India"
   ]
  },
  {
   "cell_type": "code",
   "execution_count": null,
   "id": "17653b23-7bc4-4cd7-a9c6-e9fe3535524a",
   "metadata": {},
   "outputs": [],
   "source": [
    "trend_consump = pd.read_csv('Cleaned Data/HCES/Trend_Consump.csv',header=None,skiprows=2)\n",
    "trend_consump = trend_consump.drop(0,axis=1)\n",
    "col = pd.MultiIndex.from_tuples([\n",
    "    ('Sector',''),\n",
    "    ('Average MPCE(Rs.) over different period','2011-12'),('Average MPCE(Rs.) over different period','2022-23'),('Average MPCE(Rs.) over different period','2023-24')\n",
    "])\n",
    "trend_consump.columns = col\n",
    "trend_consump"
   ]
  },
  {
   "cell_type": "markdown",
   "id": "b80810ad-5765-4761-a1a0-95b1349af7b4",
   "metadata": {},
   "source": [
    "### Insights:\n",
    "\n",
    "1. Steady Increase in MPCE Across both sectors\n",
    "    * The Rural MPCE has grown from ₹1430 in 2011-12 to ₹4122 in 2023-24, an almost 3× increase.\n",
    "    * The Urban MPCE has grown from ₹2630 in 2011-12 to ₹6996 in 2023-24, also increasing almost 3×.\n",
    "    * This indicates a steady rise in per capita spending, which may be attributed to factors like inflation, increased income, and improved living standards.\n",
    "2. Urban-Rural in Consumption\n",
    "   * The absolute difference in MPCE between Urban and Rural areas has increased over time, but the relative difference (as % of Rural MPCE) has decreased:\n",
    "     * 2011-12: Urban MPCE was 83.9% higher than Rural.\n",
    "     * 2022-23: Gap reduced to 71.2%.\n",
    "     * 2023-24: Further declined to 69.7%.\n",
    "   * This suggests that rural consumption levels are catching up with urban areas, indicating economic improvement in rural regions.\n",
    "3. Potential Factors behind the trends\n",
    "    * Higher Economic Growth & Inflation: The increase in MPCE suggests that household expenditures have risen due to both economic growth and inflation.\n",
    "    * Government Schemes & Rural Development: The narrowing Urban-Rural gap suggests that rural welfare programs and better income opportunities may have helped bridge the divide.\n",
    "    * Lifestyle Changes: Increased spending could reflect a shift in consumption patterns, with more spending on non-essential goods, technology, and services."
   ]
  },
  {
   "cell_type": "code",
   "execution_count": null,
   "id": "3a7027bd-b0d4-4b67-a84e-092f6fc95790",
   "metadata": {},
   "outputs": [],
   "source": [
    "trend_consump.columns = ['_'.join(col).strip() for col in trend_consump.columns]"
   ]
  },
  {
   "cell_type": "code",
   "execution_count": null,
   "id": "2ec29966-6cd7-4f42-b39f-aeeee970590d",
   "metadata": {},
   "outputs": [],
   "source": [
    "trend_consump_melt = trend_consump.melt(id_vars=['Sector_'],var_name='Year',value_name='MPCE')\n",
    "trend_consump_melt['Year'] = trend_consump_melt['Year'].str.extract(r'(\\d{4}-\\d{2})')\n",
    "trend_consump_melt['Year'] = trend_consump_melt['Year'].astype(str)"
   ]
  },
  {
   "cell_type": "code",
   "execution_count": null,
   "id": "e69f76eb-ae24-4e75-8e1e-01b8762c9a2b",
   "metadata": {},
   "outputs": [],
   "source": [
    "trend_consump_melt"
   ]
  },
  {
   "cell_type": "code",
   "execution_count": null,
   "id": "58953267-3f72-4c11-b322-0b17f2855320",
   "metadata": {},
   "outputs": [],
   "source": [
    "plt.figure(figsize=(10,5))\n",
    "sns.lineplot(x='Year',y='MPCE',hue='Sector_',data=trend_consump_melt,marker='o')\n",
    "plt.xlabel('Year')\n",
    "plt.ylabel('Average MPCE (Rs.)')\n",
    "plt.title('Trend in Level of Consumption (MPCE) Since 2011-12')\n",
    "plt.legend()\n",
    "plt.grid(True)\n",
    "plt.show()"
   ]
  },
  {
   "cell_type": "code",
   "execution_count": null,
   "id": "c15e32fe-2ea5-4203-bef8-d6507b6355a1",
   "metadata": {},
   "outputs": [],
   "source": [
    "df_diff = trend_consump_melt[trend_consump_melt['Sector_'] == 'Difference as % of Rural MPCE'] \n",
    "plt.figure(figsize=(10,5))\n",
    "sns.lineplot(x='Year',y='MPCE',data=df_diff,marker='d',color='red',label='Urban-Rural MPCE Difference (%)')\n",
    "\n",
    "plt.xlabel('Year')\n",
    "plt.ylabel('Difference (%)')\n",
    "plt.title('Urban-Rural MPCE Difference Over Time')\n",
    "plt.legend()\n",
    "plt.grid(True)\n",
    "plt.show()"
   ]
  },
  {
   "cell_type": "code",
   "execution_count": null,
   "id": "c98b05e2-170b-462e-a95a-fe1f9400bc7c",
   "metadata": {},
   "outputs": [],
   "source": [
    "lfpr_res.to_csv('LFPS_res.csv',index=False,header=True)"
   ]
  },
  {
   "cell_type": "markdown",
   "id": "973670b3-ab5f-48a1-87f0-3574b072c2f7",
   "metadata": {},
   "source": [
    "# Combined Datasets (PLFS+HCES)"
   ]
  },
  {
   "cell_type": "markdown",
   "id": "4e172f62-ad28-484d-b7ba-69a3c96ed9c7",
   "metadata": {},
   "source": [
    "## Merging Datasets:\n",
    "\n",
    "* Merging PLFS LFPR_res.csv with Avg MPCE_State: Analyze how LFPR correlates with household expenditure at the state level.\n"
   ]
  },
  {
   "cell_type": "markdown",
   "id": "8583bb4c-daff-426e-a576-eb4b8077c0af",
   "metadata": {},
   "source": [
    "### 1. lfpr_res and avg_MPCE_stateF"
   ]
  },
  {
   "cell_type": "code",
   "execution_count": null,
   "id": "ddede2b3-5d96-423c-8fcc-cb4b9b221273",
   "metadata": {},
   "outputs": [],
   "source": [
    "lfpr_res"
   ]
  },
  {
   "cell_type": "code",
   "execution_count": null,
   "id": "275db52c-3f3d-4db6-a1ed-22201e46b6bd",
   "metadata": {},
   "outputs": [],
   "source": [
    "avg_MPCE_stateF.head(5)"
   ]
  },
  {
   "cell_type": "code",
   "execution_count": null,
   "id": "0687565d-8729-4930-b06e-a95dc3be4869",
   "metadata": {},
   "outputs": [],
   "source": [
    "final_lfpr = lfpr_res[lfpr_res['Age Category'] == 'All Ages']\n",
    "final_lfpr.reset_index(drop=True,inplace=True)"
   ]
  },
  {
   "cell_type": "code",
   "execution_count": null,
   "id": "61f1db63-4f1a-4e83-b278-9b781da2e5bb",
   "metadata": {},
   "outputs": [],
   "source": [
    "final_lfpr = final_lfpr.drop(('Age Category',''),axis=1)"
   ]
  },
  {
   "cell_type": "code",
   "execution_count": null,
   "id": "44fba3a0-ed24-4cb7-9645-4bcbf4c3b3fd",
   "metadata": {},
   "outputs": [],
   "source": [
    "final_lfpr"
   ]
  },
  {
   "cell_type": "code",
   "execution_count": null,
   "id": "232de23e-e2a5-4eda-8b61-403fb6369398",
   "metadata": {},
   "outputs": [],
   "source": [
    "merged_df1 = pd.merge(final_lfpr,avg_MPCE_stateF,on='State/UT',how='inner')"
   ]
  },
  {
   "cell_type": "code",
   "execution_count": null,
   "id": "b6ebbb42-9a1a-4f53-a8ab-766cb3113b4b",
   "metadata": {},
   "outputs": [],
   "source": [
    "merged_df1.isnull().sum()"
   ]
  },
  {
   "cell_type": "code",
   "execution_count": null,
   "id": "7ccbc32d-2427-4393-84af-cd299cb7fe86",
   "metadata": {},
   "outputs": [],
   "source": [
    "merged_df1.corr(numeric_only=True)"
   ]
  },
  {
   "cell_type": "markdown",
   "id": "04ed40a9-3f96-429e-9bb0-0e8ab874b96b",
   "metadata": {},
   "source": [
    "### To Analyze the relationship between employment trends and consumption patterns across different states in India\n",
    "\n",
    "\n",
    "  "
   ]
  },
  {
   "cell_type": "code",
   "execution_count": null,
   "id": "736dd802-6f97-4dc0-9cae-ec19607b7125",
   "metadata": {},
   "outputs": [],
   "source": [
    "merged_df1.info()"
   ]
  },
  {
   "cell_type": "code",
   "execution_count": null,
   "id": "9ff1f40f-4224-4b7a-9fdc-bbaad65f0a96",
   "metadata": {},
   "outputs": [],
   "source": [
    "merged_df1.columns = ['_'.join(col).strip() if isinstance(col, tuple) else col for col in merged_df1.columns]\n",
    "merged_df1.head(2)"
   ]
  },
  {
   "cell_type": "markdown",
   "id": "edf84db5-a28a-4ac4-84b1-a27540d1996c",
   "metadata": {},
   "source": [
    "### Distribution of MPCE and Employment Rates (Scaled) Boxplot Analysis"
   ]
  },
  {
   "cell_type": "code",
   "execution_count": null,
   "id": "ce03d859-fa9f-4e9e-b4d5-deab4bd8192a",
   "metadata": {},
   "outputs": [],
   "source": [
    "from sklearn.preprocessing import MinMaxScaler\n",
    "\n",
    "scaler = MinMaxScaler()\n",
    "scaled_data = scaler.fit_transform(merged_df1[['Average MPCE(Rs.)_Rural', 'Average MPCE(Rs.)_Urban', 'Rural+Urban_Person']])\n",
    "\n",
    "scaled_df = merged_df1.copy()\n",
    "scaled_df[['Avg_MPCE_Rural', 'Avg_MPCE_Urban', 'Rural+Urban_Person']] = scaled_data\n",
    "\n",
    "# Plot after scaling\n",
    "plt.figure(figsize=(10,5))\n",
    "sns.boxplot(data=scaled_df[['Avg_MPCE_Rural', 'Avg_MPCE_Urban', 'Rural+Urban_Person']])\n",
    "plt.title('Distribution of MPCE and Employment Rates (Scaled)')\n",
    "plt.show()\n"
   ]
  },
  {
   "cell_type": "markdown",
   "id": "a55a80c6-40a9-4c20-a3c6-dd1bcba3a65e",
   "metadata": {},
   "source": [
    "### Conclusions:\n",
    "\n",
    "* "
   ]
  },
  {
   "cell_type": "code",
   "execution_count": null,
   "id": "5d68b324-157a-435e-9260-c91588e56d23",
   "metadata": {},
   "outputs": [],
   "source": [
    "plt.figure(figsize=(12, 6))\n",
    "df_sorted = merged_df1.sort_values(by=\"Total_MPCE\", ascending=False)\n",
    "sns.barplot(data=df_sorted, x=\"Total_MPCE\", y=\"State/UT\", hue=('Average MPCE(Rs.)',\"Urban\"), palette=\"viridis\")\n",
    "plt.xlabel(\"MPCE (Rs.)\")\n",
    "plt.ylabel(\"State/UT\")\n",
    "plt.title(\"State-wise MPCE: Rural vs. Urban\")\n",
    "plt.legend(title=\"MPCE Type\")\n",
    "plt.show()"
   ]
  },
  {
   "cell_type": "markdown",
   "id": "a9f2f6fc-79c1-4e23-8508-cd237cc79bdc",
   "metadata": {},
   "source": [
    "### Correlation Analysis"
   ]
  },
  {
   "cell_type": "code",
   "execution_count": null,
   "id": "aa776d63-f9f6-49c4-94bd-aff1ef2c5330",
   "metadata": {},
   "outputs": [],
   "source": [
    "plt.figure(figsize=(12,6))\n",
    "sns.heatmap(merged_df1.corr(numeric_only=True),annot=True,cmap='coolwarm',linewidth=0.5,linecolor='black',square=True,annot_kws={'size':8,'color':'black'})\n",
    "plt.title('Correlation Matrix Heatmap',fontsize=14,fontweight='bold',color='darkred')\n",
    "plt.xticks(rotation=30,ha='right',fontsize=10)\n",
    "plt.show()"
   ]
  },
  {
   "cell_type": "code",
   "execution_count": null,
   "id": "687de47b-09a3-4a50-9c69-4e12d8e72fa3",
   "metadata": {},
   "outputs": [],
   "source": [
    "# 1️⃣ State-wise MPCE Analysis (Bar Plot)\n",
    "plt.figure(figsize=(14, 6))\n",
    "statewise_data = merged_df1[['State/UT_', 'Average MPCE(Rs.)_Rural', 'Average MPCE(Rs.)_Urban']].sort_values(by='Average MPCE(Rs.)_Urban', ascending=False)\n",
    "\n",
    "sns.barplot(data=statewise_data, x='State/UT_', y='Average MPCE(Rs.)_Urban', color='royalblue', label='Urban')\n",
    "sns.barplot(data=statewise_data, x='State/UT_', y='Average MPCE(Rs.)_Rural', color='lightcoral', label='Rural')\n",
    "\n",
    "plt.xticks(rotation=90)\n",
    "plt.title('State-wise Average MPCE (Rural vs Urban)', fontsize=14, fontweight='bold')\n",
    "plt.ylabel('Average MPCE (Rs.)')\n",
    "plt.xlabel('State/UT')\n",
    "plt.legend()\n",
    "plt.show()"
   ]
  },
  {
   "cell_type": "code",
   "execution_count": null,
   "id": "b28259b3-596e-4d1e-a5b3-03a58643fc20",
   "metadata": {},
   "outputs": [],
   "source": [
    "top_states = merged_df1.nlargest(5, 'Average MPCE(Rs.)_Urban')[['State/UT_', 'Average MPCE(Rs.)_Urban']]\n",
    "bottom_states = merged_df1.nsmallest(5, 'Average MPCE(Rs.)_Urban')[['State/UT_', 'Average MPCE(Rs.)_Urban']]\n",
    "\n",
    "# Display results\n",
    "print(\"🔝 Top 5 States with Highest MPCE (Urban):\\n\", top_states)\n",
    "print(\"\\n🔻 Bottom 5 States with Lowest MPCE (Urban):\\n\", bottom_states)\n"
   ]
  },
  {
   "cell_type": "markdown",
   "id": "9d9027e8-796a-4340-a279-cee2273c4dfa",
   "metadata": {},
   "source": [
    "### MPCE vs Employment Rate (State-Wise)"
   ]
  },
  {
   "cell_type": "code",
   "execution_count": null,
   "id": "fa798b27-b89b-44df-b887-b694f0d4899f",
   "metadata": {},
   "outputs": [],
   "source": [
    "plt.figure(figsize=(8, 6))\n",
    "sns.scatterplot(data=merged_df1, x='Average MPCE(Rs.)_Urban', y='Rural+Urban_Person', hue='State/UT_', palette='coolwarm', edgecolor='black', s=100)\n",
    "\n",
    "plt.title('MPCE vs Employment Rate (State-wise)', fontsize=14, fontweight='bold')\n",
    "plt.xlabel('Average MPCE (Urban) (Rs.)')\n",
    "plt.ylabel('Employment Rate (%)')\n",
    "plt.grid(True, linestyle='--', alpha=0.7)\n",
    "plt.legend(title='State/UT',bbox_to_anchor=(1.05, 1), loc='upper left')\n",
    "plt.show()"
   ]
  },
  {
   "cell_type": "code",
   "execution_count": null,
   "id": "8680663f-4e19-4c64-8b16-eb7a71695a31",
   "metadata": {},
   "outputs": [],
   "source": [
    "merged_df1.columns = ['_'.join(col).strip() if isinstance(col, tuple) else col for col in merged_df1.columns]"
   ]
  },
  {
   "cell_type": "code",
   "execution_count": null,
   "id": "9539e9b0-a920-4085-a364-8b5afe7b757f",
   "metadata": {},
   "outputs": [],
   "source": [
    "unemp_rate_f.columns = ['_'.join(col).strip() if isinstance(col, tuple) else col for col in unemp_rate_f.columns]"
   ]
  },
  {
   "cell_type": "code",
   "execution_count": null,
   "id": "54fd6547-35c0-416c-a3c9-c4d814f19335",
   "metadata": {},
   "outputs": [],
   "source": [
    "trend_consump"
   ]
  },
  {
   "cell_type": "code",
   "execution_count": null,
   "id": "7e63a5b2-28f1-43ba-8f36-b41d4ca4c431",
   "metadata": {},
   "outputs": [],
   "source": [
    "trend_consump_long = trend_consump.melt(id_vars=['Sector_'], var_name='Year',value_name='MPCE')\n",
    "trend_consump_long['Year'] = trend_consump_long['Year'].str.extract('(\\d{4}-\\d{2})').astype(str)"
   ]
  },
  {
   "cell_type": "code",
   "execution_count": null,
   "id": "b587bca1-ebbe-42da-9b98-f065713386eb",
   "metadata": {},
   "outputs": [],
   "source": [
    "trend_consump_long"
   ]
  },
  {
   "cell_type": "markdown",
   "id": "69947736-c73d-4846-bfad-e043479d66d8",
   "metadata": {},
   "source": [
    "### Unemployment Analysis\n",
    "\n",
    "### 1. Gender Disparity"
   ]
  },
  {
   "cell_type": "code",
   "execution_count": null,
   "id": "ee40d108-adac-4bb6-b2d4-a8b096b29016",
   "metadata": {},
   "outputs": [],
   "source": [
    "unemp_rate_f.head(1)"
   ]
  },
  {
   "cell_type": "code",
   "execution_count": null,
   "id": "51c397c0-490f-4b41-85d9-e1fdd8127871",
   "metadata": {},
   "outputs": [],
   "source": [
    "gender_gap = unemp_rate_f[['State/UT_','Rural+Urban_Female','Rural+Urban_Male']]\n",
    "gender_gap['Gap'] = gender_gap['Rural+Urban_Female'] - gender_gap['Rural+Urban_Male']\n",
    "gender_gap.sort_values('Gap', ascending=False)"
   ]
  },
  {
   "cell_type": "markdown",
   "id": "e513bf34-1981-4503-a38d-c0baeaee42d1",
   "metadata": {},
   "source": [
    "### Insight: States like Kerala, Goa and Chandigarh show high female unemployment rates (>15%) compared to males"
   ]
  },
  {
   "cell_type": "markdown",
   "id": "f1aecb82-34b8-4ac7-b834-181339360daa",
   "metadata": {},
   "source": [
    "### 2. Urban-Rural Divide"
   ]
  },
  {
   "cell_type": "code",
   "execution_count": null,
   "id": "2457a8be-8e43-4fc9-89f8-919343bfae13",
   "metadata": {},
   "outputs": [],
   "source": [
    "unemp_rate_f['Urban_Rural_Gap'] = unemp_rate_f['Urban_Person'] - unemp_rate_f['Rural_Person']\n",
    "unemp_rate_f.sort_values('Urban_Rural_Gap',ascending=False)"
   ]
  },
  {
   "cell_type": "markdown",
   "id": "958cbdeb-ea4a-4014-8417-1fae4e8f4727",
   "metadata": {},
   "source": [
    "### Insight: Urban unemployment is higher in states like Ladakh (9.6%) while  rural unemployment dominates in Punjab (equal rates(0))"
   ]
  },
  {
   "cell_type": "markdown",
   "id": "955c5c98-108d-4698-acb5-6afc2d19b2af",
   "metadata": {},
   "source": [
    "### MPCE (Consumption) Analysis \n",
    "### 1. Rural vs Urban MPCE Growth"
   ]
  },
  {
   "cell_type": "markdown",
   "id": "e2a24374-f73b-426b-9b8f-cd6c81931f49",
   "metadata": {},
   "source": [
    "### Unemployment Heatmap "
   ]
  },
  {
   "cell_type": "code",
   "execution_count": null,
   "id": "f5711e0b-6509-402d-9658-1350704134aa",
   "metadata": {},
   "outputs": [],
   "source": [
    "plt.figure(figsize=(12,6))\n",
    "sns.heatmap(unemp_rate_f[['Rural_Person', 'Urban_Person', 'Rural+Urban_Person']],annot=True,cmap='YlOrRd',linewidth=0.5,linecolor='black',annot_kws={'size':7,'color':'black'})\n",
    "plt.title('Unemployment Heatmap',fontsize=14,fontweight='bold',color='darkred')\n",
    "plt.xticks(rotation=0,fontsize=10)\n",
    "plt.show()"
   ]
  },
  {
   "cell_type": "code",
   "execution_count": null,
   "id": "406dbdcb-6d14-4525-a4a9-a3c5907b6ae3",
   "metadata": {},
   "outputs": [],
   "source": [
    "plt.figure(figsize=(12,6))\n",
    "sns.lineplot(data=trend_consump_long, x='Year', y='MPCE', hue='Sector_')\n",
    "plt.title('MPCE Growth Trends',fontsize=16)\n",
    "plt.show()"
   ]
  },
  {
   "cell_type": "markdown",
   "id": "e398d143-2595-42b1-b0fc-a83e78b328ca",
   "metadata": {},
   "source": [
    "### Combined Insights:\n",
    "\n",
    "1. **Gender & Sectoral Gaps**:\n",
    "   * High female unemployment correlates with lower MPCE growth in states like Kerala (16.7% female unemployment).\n",
    "   * Urban areas show higher MPCE but also higher unemployment volatility (e.g., Chandigarh: 16.3% female urban unemployment).\n",
    "2. **Policy Implications**:\n",
    "   * **Rural Focus**: Boost employment schemes (e.g., MGNREGA) to align with MPCE growth.\n",
    "   * **Urban Focus**: Address female unemployment (e.g., skill development) to stabilize consumption."
   ]
  },
  {
   "cell_type": "code",
   "execution_count": null,
   "id": "156d41ae-6c7c-4a3e-92a0-6f6bdeb3776f",
   "metadata": {},
   "outputs": [],
   "source": [
    "%who_ls DataFrame |"
   ]
  },
  {
   "cell_type": "code",
   "execution_count": null,
   "id": "43333315-066c-4293-8625-e08131298f94",
   "metadata": {},
   "outputs": [],
   "source": []
  }
 ],
 "metadata": {
  "kernelspec": {
   "display_name": "myenvStats",
   "language": "python",
   "name": "python3"
  },
  "language_info": {
   "codemirror_mode": {
    "name": "ipython",
    "version": 3
   },
   "file_extension": ".py",
   "mimetype": "text/x-python",
   "name": "python",
   "nbconvert_exporter": "python",
   "pygments_lexer": "ipython3",
   "version": "3.13.2"
  }
 },
 "nbformat": 4,
 "nbformat_minor": 5
}
